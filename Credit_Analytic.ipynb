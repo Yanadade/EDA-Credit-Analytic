{
  "nbformat": 4,
  "nbformat_minor": 0,
  "metadata": {
    "language_info": {
      "codemirror_mode": {
        "name": "ipython",
        "version": 3
      },
      "file_extension": ".py",
      "mimetype": "text/x-python",
      "name": "python",
      "nbconvert_exporter": "python",
      "pygments_lexer": "ipython3",
      "version": "3.7.6"
    },
    "orig_nbformat": 2,
    "kernelspec": {
      "name": "python376jvsc74a57bd0b3ba2566441a7c06988d0923437866b63cedc61552a5af99d1f4fb67d367b25f",
      "display_name": "Python 3.7.6 64-bit ('base': conda)"
    },
    "colab": {
      "provenance": []
    }
  },
  "cells": [
    {
      "cell_type": "code",
      "metadata": {
        "id": "QWg9mDKGmWrc"
      },
      "source": [
        "#Import Library\n",
        "import pandas as pd \n",
        "import numpy as np \n",
        "import matplotlib.pyplot as plt\n",
        "import seaborn as sns"
      ],
      "execution_count": 52,
      "outputs": []
    },
    {
      "cell_type": "code",
      "metadata": {
        "id": "4UPeMFqwmWrk"
      },
      "source": [
        "#Read CSV file\n",
        "df=pd.read_csv(\"credit.csv\")"
      ],
      "execution_count": 53,
      "outputs": []
    },
    {
      "cell_type": "code",
      "metadata": {
        "id": "VGIbpuQUmWrl",
        "outputId": "35ffeea9-8ebe-4955-eba9-cefa98992c88",
        "colab": {
          "base_uri": "https://localhost:8080/"
        }
      },
      "source": [
        "#Check informations\n",
        "df.info()"
      ],
      "execution_count": 54,
      "outputs": [
        {
          "output_type": "stream",
          "name": "stdout",
          "text": [
            "<class 'pandas.core.frame.DataFrame'>\n",
            "RangeIndex: 8950 entries, 0 to 8949\n",
            "Data columns (total 20 columns):\n",
            " #   Column            Non-Null Count  Dtype  \n",
            "---  ------            --------------  -----  \n",
            " 0   CustID            8950 non-null   int64  \n",
            " 1   Age               8950 non-null   int64  \n",
            " 2   Province          8883 non-null   object \n",
            " 3   Years             8950 non-null   int64  \n",
            " 4   CreditLimit       8950 non-null   float64\n",
            " 5   Payment           8950 non-null   float64\n",
            " 6   Min_payment       8950 non-null   float64\n",
            " 7   Ndefault          8950 non-null   int64  \n",
            " 8   Balance           8950 non-null   float64\n",
            " 9   Balance_Freq      8950 non-null   float64\n",
            " 10  N_purchases       8950 non-null   int64  \n",
            " 11  LastPurchase      8950 non-null   float64\n",
            " 12  MaxPurchase       8950 non-null   float64\n",
            " 13  Inst_purchase     8950 non-null   float64\n",
            " 14  Advance           8950 non-null   float64\n",
            " 15  Count_Advance_Tx  8950 non-null   float64\n",
            " 16  Purchase_Freq     8950 non-null   float64\n",
            " 17  Installment_Freq  8950 non-null   float64\n",
            " 18  Advance_Freq      8950 non-null   int64  \n",
            " 19  Pct_full_payment  8950 non-null   float64\n",
            "dtypes: float64(13), int64(6), object(1)\n",
            "memory usage: 1.4+ MB\n"
          ]
        }
      ]
    },
    {
      "cell_type": "code",
      "metadata": {
        "id": "lPIBrsBSmWrn",
        "outputId": "35c988d0-a6e0-4557-8d22-58d2313cba2a",
        "colab": {
          "base_uri": "https://localhost:8080/"
        }
      },
      "source": [
        "#Check missing value \n",
        "df.isnull().sum()"
      ],
      "execution_count": 55,
      "outputs": [
        {
          "output_type": "execute_result",
          "data": {
            "text/plain": [
              "CustID               0\n",
              "Age                  0\n",
              "Province            67\n",
              "Years                0\n",
              "CreditLimit          0\n",
              "Payment              0\n",
              "Min_payment          0\n",
              "Ndefault             0\n",
              "Balance              0\n",
              "Balance_Freq         0\n",
              "N_purchases          0\n",
              "LastPurchase         0\n",
              "MaxPurchase          0\n",
              "Inst_purchase        0\n",
              "Advance              0\n",
              "Count_Advance_Tx     0\n",
              "Purchase_Freq        0\n",
              "Installment_Freq     0\n",
              "Advance_Freq         0\n",
              "Pct_full_payment     0\n",
              "dtype: int64"
            ]
          },
          "metadata": {},
          "execution_count": 55
        }
      ]
    },
    {
      "cell_type": "code",
      "metadata": {
        "id": "Wmt32n0HmWrp"
      },
      "source": [
        "#Drop data\n",
        "df.dropna(inplace=True)"
      ],
      "execution_count": 56,
      "outputs": []
    },
    {
      "cell_type": "code",
      "metadata": {
        "id": "HD_VTKU3mWrq",
        "outputId": "aecae7eb-724a-4f38-e7fc-243872f9f7f3",
        "colab": {
          "base_uri": "https://localhost:8080/"
        }
      },
      "source": [
        "#check Missing value \n",
        "df.notnull().any()"
      ],
      "execution_count": 57,
      "outputs": [
        {
          "output_type": "execute_result",
          "data": {
            "text/plain": [
              "CustID              True\n",
              "Age                 True\n",
              "Province            True\n",
              "Years               True\n",
              "CreditLimit         True\n",
              "Payment             True\n",
              "Min_payment         True\n",
              "Ndefault            True\n",
              "Balance             True\n",
              "Balance_Freq        True\n",
              "N_purchases         True\n",
              "LastPurchase        True\n",
              "MaxPurchase         True\n",
              "Inst_purchase       True\n",
              "Advance             True\n",
              "Count_Advance_Tx    True\n",
              "Purchase_Freq       True\n",
              "Installment_Freq    True\n",
              "Advance_Freq        True\n",
              "Pct_full_payment    True\n",
              "dtype: bool"
            ]
          },
          "metadata": {},
          "execution_count": 57
        }
      ]
    },
    {
      "cell_type": "code",
      "metadata": {
        "id": "bb4vj0_8mWrr",
        "outputId": "11134ea9-5ab4-408d-d476-4660b26062ef",
        "colab": {
          "base_uri": "https://localhost:8080/"
        }
      },
      "source": [
        "#Count data\n",
        "df.count()"
      ],
      "execution_count": 58,
      "outputs": [
        {
          "output_type": "execute_result",
          "data": {
            "text/plain": [
              "CustID              8883\n",
              "Age                 8883\n",
              "Province            8883\n",
              "Years               8883\n",
              "CreditLimit         8883\n",
              "Payment             8883\n",
              "Min_payment         8883\n",
              "Ndefault            8883\n",
              "Balance             8883\n",
              "Balance_Freq        8883\n",
              "N_purchases         8883\n",
              "LastPurchase        8883\n",
              "MaxPurchase         8883\n",
              "Inst_purchase       8883\n",
              "Advance             8883\n",
              "Count_Advance_Tx    8883\n",
              "Purchase_Freq       8883\n",
              "Installment_Freq    8883\n",
              "Advance_Freq        8883\n",
              "Pct_full_payment    8883\n",
              "dtype: int64"
            ]
          },
          "metadata": {},
          "execution_count": 58
        }
      ]
    },
    {
      "cell_type": "code",
      "metadata": {
        "id": "ewUdIcupmWrs",
        "outputId": "9d650e28-6ba9-4694-cb9e-04df916df2e1",
        "colab": {
          "base_uri": "https://localhost:8080/",
          "height": 758
        }
      },
      "source": [
        "#Plot \"Age\" Histrogram, find out data problems\n",
        "df['Age'].hist(bins=50,figsize=(10,10))\n",
        "df['Age'].describe()\n"
      ],
      "execution_count": 59,
      "outputs": [
        {
          "output_type": "execute_result",
          "data": {
            "text/plain": [
              "count    8883.000000\n",
              "mean       26.532478\n",
              "std         6.143039\n",
              "min        20.000000\n",
              "25%        22.000000\n",
              "50%        25.000000\n",
              "75%        29.000000\n",
              "max        80.000000\n",
              "Name: Age, dtype: float64"
            ]
          },
          "metadata": {},
          "execution_count": 59
        },
        {
          "output_type": "display_data",
          "data": {
            "text/plain": [
              "<Figure size 720x720 with 1 Axes>"
            ],
            "image/png": "[encoded data removed]"
          },
          "metadata": {
            "needs_background": "light"
          }
        }
      ]
    },
    {
      "cell_type": "code",
      "metadata": {
        "id": "SiAdO0rTmWrt",
        "outputId": "973a8c24-0263-453d-8007-05e6b52cca4d",
        "colab": {
          "base_uri": "https://localhost:8080/"
        }
      },
      "source": [
        "#Check Age & Years index\n",
        "index_Age_Years=df[(df[\"Age\"]==20) & (df[\"Years\"]==6)].index\n",
        "index_Age_Years"
      ],
      "execution_count": 60,
      "outputs": [
        {
          "output_type": "execute_result",
          "data": {
            "text/plain": [
              "Int64Index([  83,  109,  151,  319,  402,  456,  537,  616,  622,  672,\n",
              "            ...\n",
              "            8619, 8620, 8639, 8640, 8653, 8690, 8693, 8696, 8719, 8725],\n",
              "           dtype='int64', length=403)"
            ]
          },
          "metadata": {},
          "execution_count": 60
        }
      ]
    },
    {
      "cell_type": "code",
      "metadata": {
        "id": "YjOZ4zsYmWru"
      },
      "source": [
        "#Drop data\n",
        "df.drop(index_Age_Years, inplace=True)"
      ],
      "execution_count": 61,
      "outputs": []
    },
    {
      "cell_type": "code",
      "metadata": {
        "id": "ezFFiklBmWrv",
        "outputId": "745d60ec-7657-413a-b3e1-64355f1535c3",
        "colab": {
          "base_uri": "https://localhost:8080/",
          "height": 758
        }
      },
      "source": [
        "#Plot \"CreditLimit\" Histrogram, find out data problems\n",
        "df['CreditLimit'].hist(bins=50,figsize=(10,10))\n",
        "df['CreditLimit'].describe()"
      ],
      "execution_count": 62,
      "outputs": [
        {
          "output_type": "execute_result",
          "data": {
            "text/plain": [
              "count      8480.000000\n",
              "mean      31933.653133\n",
              "std       40442.404953\n",
              "min          -9.000000\n",
              "25%           0.000000\n",
              "50%       15000.000000\n",
              "75%       55000.000000\n",
              "max      300000.000000\n",
              "Name: CreditLimit, dtype: float64"
            ]
          },
          "metadata": {},
          "execution_count": 62
        },
        {
          "output_type": "display_data",
          "data": {
            "text/plain": [
              "<Figure size 720x720 with 1 Axes>"
            ],
            "image/png": "[encoded data removed]"
          },
          "metadata": {
            "needs_background": "light"
          }
        }
      ]
    },
    {
      "cell_type": "code",
      "metadata": {
        "id": "UYAB4cd7mWrw"
      },
      "source": [
        "#Settings the scale of data is high\n",
        "pd.set_option('display.max_rows',None)\n"
      ],
      "execution_count": 63,
      "outputs": []
    },
    {
      "cell_type": "code",
      "metadata": {
        "id": "8qpdmqpimWrx",
        "outputId": "e8b2e43e-4763-4a4e-acc8-f13a2f90b842",
        "colab": {
          "base_uri": "https://localhost:8080/"
        }
      },
      "source": [
        "#Check Creditlimit count value\n",
        "df['CreditLimit'].value_counts()"
      ],
      "execution_count": 64,
      "outputs": [
        {
          "output_type": "execute_result",
          "data": {
            "text/plain": [
              " 0.00000         3490\n",
              " 30000.00000      393\n",
              " 15000.00000      310\n",
              " 60000.00000      310\n",
              " 40000.00000      273\n",
              " 12000.00000      270\n",
              " 25000.00000      247\n",
              " 50000.00000      214\n",
              " 75000.00000      207\n",
              " 70000.00000      197\n",
              " 45000.00000      158\n",
              " 10000.00000      157\n",
              " 65000.00000      144\n",
              " 20000.00000      139\n",
              " 90000.00000      134\n",
              " 85000.00000      130\n",
              " 18000.00000      123\n",
              " 100000.00000     121\n",
              " 80000.00000      110\n",
              " 35000.00000      108\n",
              " 55000.00000       81\n",
              " 120000.00000      77\n",
              " 95000.00000       77\n",
              " 105000.00000      74\n",
              " 115000.00000      58\n",
              " 17000.00000       47\n",
              " 130000.00000      47\n",
              " 110000.00000      45\n",
              " 16000.00000       34\n",
              " 140000.00000      31\n",
              " 150000.00000      30\n",
              " 125000.00000      29\n",
              " 165000.00000      26\n",
              " 21000.00000       24\n",
              " 135000.00000      23\n",
              " 19500.00000       22\n",
              "-9.00000           22\n",
              " 145000.00000      22\n",
              " 24000.00000       21\n",
              " 180000.00000      20\n",
              " 5000.00000        18\n",
              " 14000.00000       15\n",
              " 160000.00000      15\n",
              " 27000.00000       14\n",
              " 155000.00000      13\n",
              " 23000.00000       12\n",
              " 42000.00000       11\n",
              " 29000.00000       11\n",
              " 170000.00000      10\n",
              " 26000.00000       10\n",
              " 80.00000           9\n",
              " 32000.00000        9\n",
              " 57000.00000        9\n",
              " 175000.00000       8\n",
              " 185000.00000       8\n",
              " 200000.00000       8\n",
              " 67000.00000        7\n",
              " 19000.00000        6\n",
              " 28000.00000        6\n",
              " 6000.00000         6\n",
              " 22000.00000        6\n",
              " 43000.00000        5\n",
              " 38000.00000        5\n",
              " 46000.00000        5\n",
              " 33000.00000        5\n",
              " 52000.00000        5\n",
              " 36000.00000        5\n",
              " 3000.00000         5\n",
              " 37000.00000        4\n",
              " 31000.00000        4\n",
              " 27500.00000        4\n",
              " 195000.00000       4\n",
              " 190000.00000       4\n",
              " 34000.00000        4\n",
              " 76000.00000        4\n",
              " 53000.00000        4\n",
              " 13000.00000        4\n",
              " 9000.00000         4\n",
              " 62000.00000        4\n",
              " 72000.00000        4\n",
              " 73000.00000        3\n",
              " 48000.00000        3\n",
              " 51000.00000        3\n",
              " 7000.00000         3\n",
              " 31500.00000        3\n",
              " 2000.00000         3\n",
              " 56000.00000        3\n",
              " 66000.00000        3\n",
              " 71000.00000        3\n",
              " 63000.00000        3\n",
              " 18500.00000        3\n",
              " 22500.00000        3\n",
              " 47000.00000        2\n",
              " 210000.00000       2\n",
              " 73500.00000        2\n",
              " 30500.00000        2\n",
              " 44000.00000        2\n",
              " 69000.00000        2\n",
              " 77000.00000        2\n",
              " 7500.00000         2\n",
              " 1500.00000         2\n",
              " 47500.00000        2\n",
              " 13500.00000        2\n",
              " 215000.00000       2\n",
              " 33500.00000        2\n",
              " 88000.00000        2\n",
              " 61500.00000        2\n",
              " 54000.00000        2\n",
              " 111500.00000       2\n",
              " 17500.00000        2\n",
              " 41000.00000        2\n",
              " 41500.00000        2\n",
              " 11000.00000        1\n",
              " 4000.00000         1\n",
              " 28500.00000        1\n",
              " 10500.00000        1\n",
              " 27200.00000        1\n",
              " 11500.00000        1\n",
              " 25500.00000        1\n",
              " 20500.00000        1\n",
              " 22833.33333        1\n",
              " 21500.00000        1\n",
              " 300000.00000       1\n",
              " 35111.11111        1\n",
              " 112500.00000       1\n",
              " 92000.00000        1\n",
              " 94000.00000        1\n",
              " 97000.00000        1\n",
              " 99500.00000        1\n",
              " 101000.00000       1\n",
              " 102000.00000       1\n",
              " 103000.00000       1\n",
              " 104000.00000       1\n",
              " 104500.00000       1\n",
              " 109500.00000       1\n",
              " 111000.00000       1\n",
              " 113000.00000       1\n",
              " 36500.00000        1\n",
              " 118000.00000       1\n",
              " 122000.00000       1\n",
              " 135500.00000       1\n",
              " 136000.00000       1\n",
              " 146000.00000       1\n",
              " 196000.00000       1\n",
              " 205000.00000       1\n",
              " 220000.00000       1\n",
              " 225000.00000       1\n",
              " 230000.00000       1\n",
              " 250000.00000       1\n",
              " 91000.00000        1\n",
              " 82000.00000        1\n",
              " 81000.00000        1\n",
              " 80500.00000        1\n",
              " 36666.66667        1\n",
              " 37500.00000        1\n",
              " 39000.00000        1\n",
              " 40500.00000        1\n",
              " 42500.00000        1\n",
              " 43500.00000        1\n",
              " 44500.00000        1\n",
              " 46500.00000        1\n",
              " 49000.00000        1\n",
              " 52500.00000        1\n",
              " 55500.00000        1\n",
              " 280000.00000       1\n",
              " 57500.00000        1\n",
              " 61000.00000        1\n",
              " 62500.00000        1\n",
              " 64000.00000        1\n",
              " 65500.00000        1\n",
              " 67272.72727        1\n",
              " 67500.00000        1\n",
              " 68000.00000        1\n",
              " 72272.72727        1\n",
              " 78000.00000        1\n",
              " 79000.00000        1\n",
              " 56500.00000        1\n",
              "Name: CreditLimit, dtype: int64"
            ]
          },
          "metadata": {},
          "execution_count": 64
        }
      ]
    },
    {
      "cell_type": "code",
      "metadata": {
        "id": "-N9tMHlTmWry",
        "outputId": "66963e9e-3d44-45e0-bc6a-8ccefaea1064",
        "colab": {
          "base_uri": "https://localhost:8080/"
        }
      },
      "source": [
        "#Check index\n",
        "index_CreditLimit=df[df['CreditLimit']<1].index\n",
        "index_CreditLimit\n"
      ],
      "execution_count": 65,
      "outputs": [
        {
          "output_type": "execute_result",
          "data": {
            "text/plain": [
              "Int64Index([5203, 5204, 5206, 5208, 5209, 5210, 5211, 5212, 5213, 5214,\n",
              "            ...\n",
              "            8940, 8941, 8942, 8943, 8944, 8945, 8946, 8947, 8948, 8949],\n",
              "           dtype='int64', length=3512)"
            ]
          },
          "metadata": {},
          "execution_count": 65
        }
      ]
    },
    {
      "cell_type": "code",
      "metadata": {
        "id": "alnnjGjSmWrz"
      },
      "source": [
        "#Drop Data\n",
        "df.drop(index_CreditLimit,inplace=True)"
      ],
      "execution_count": 66,
      "outputs": []
    },
    {
      "cell_type": "code",
      "metadata": {
        "id": "uB1gSacxmWr0",
        "outputId": "0bbeb902-eefd-4aec-f6ff-5e352caf89d3",
        "colab": {
          "base_uri": "https://localhost:8080/"
        }
      },
      "source": [
        "#Check index\n",
        "index_CreditLimit=df[df[\"CreditLimit\"]<81].index\n",
        "index_CreditLimit"
      ],
      "execution_count": 67,
      "outputs": [
        {
          "output_type": "execute_result",
          "data": {
            "text/plain": [
              "Int64Index([1103, 1115, 1120, 1163, 1188, 1235, 1265, 1297, 1390], dtype='int64')"
            ]
          },
          "metadata": {},
          "execution_count": 67
        }
      ]
    },
    {
      "cell_type": "code",
      "metadata": {
        "id": "v9UNCnwnmWr1"
      },
      "source": [
        "#Drop Data\n",
        "df.drop(index_CreditLimit,inplace=True)"
      ],
      "execution_count": 68,
      "outputs": []
    },
    {
      "cell_type": "code",
      "metadata": {
        "id": "0KW6zKwEmWr1",
        "outputId": "7a349979-14a1-4f19-b2d3-aa42cd84499b",
        "colab": {
          "base_uri": "https://localhost:8080/"
        }
      },
      "source": [
        "df['CreditLimit'].value_counts()"
      ],
      "execution_count": 69,
      "outputs": [
        {
          "output_type": "execute_result",
          "data": {
            "text/plain": [
              "30000.00000     393\n",
              "60000.00000     310\n",
              "15000.00000     310\n",
              "40000.00000     273\n",
              "12000.00000     270\n",
              "25000.00000     247\n",
              "50000.00000     214\n",
              "75000.00000     207\n",
              "70000.00000     197\n",
              "45000.00000     158\n",
              "10000.00000     157\n",
              "65000.00000     144\n",
              "20000.00000     139\n",
              "90000.00000     134\n",
              "85000.00000     130\n",
              "18000.00000     123\n",
              "100000.00000    121\n",
              "80000.00000     110\n",
              "35000.00000     108\n",
              "55000.00000      81\n",
              "95000.00000      77\n",
              "120000.00000     77\n",
              "105000.00000     74\n",
              "115000.00000     58\n",
              "17000.00000      47\n",
              "130000.00000     47\n",
              "110000.00000     45\n",
              "16000.00000      34\n",
              "140000.00000     31\n",
              "150000.00000     30\n",
              "125000.00000     29\n",
              "165000.00000     26\n",
              "21000.00000      24\n",
              "135000.00000     23\n",
              "19500.00000      22\n",
              "145000.00000     22\n",
              "24000.00000      21\n",
              "180000.00000     20\n",
              "5000.00000       18\n",
              "160000.00000     15\n",
              "14000.00000      15\n",
              "27000.00000      14\n",
              "155000.00000     13\n",
              "23000.00000      12\n",
              "29000.00000      11\n",
              "42000.00000      11\n",
              "26000.00000      10\n",
              "170000.00000     10\n",
              "57000.00000       9\n",
              "32000.00000       9\n",
              "200000.00000      8\n",
              "175000.00000      8\n",
              "185000.00000      8\n",
              "67000.00000       7\n",
              "28000.00000       6\n",
              "22000.00000       6\n",
              "6000.00000        6\n",
              "19000.00000       6\n",
              "3000.00000        5\n",
              "43000.00000       5\n",
              "36000.00000       5\n",
              "52000.00000       5\n",
              "38000.00000       5\n",
              "33000.00000       5\n",
              "46000.00000       5\n",
              "37000.00000       4\n",
              "62000.00000       4\n",
              "53000.00000       4\n",
              "190000.00000      4\n",
              "27500.00000       4\n",
              "72000.00000       4\n",
              "34000.00000       4\n",
              "31000.00000       4\n",
              "76000.00000       4\n",
              "13000.00000       4\n",
              "195000.00000      4\n",
              "9000.00000        4\n",
              "56000.00000       3\n",
              "48000.00000       3\n",
              "22500.00000       3\n",
              "63000.00000       3\n",
              "66000.00000       3\n",
              "71000.00000       3\n",
              "73000.00000       3\n",
              "31500.00000       3\n",
              "18500.00000       3\n",
              "7000.00000        3\n",
              "2000.00000        3\n",
              "51000.00000       3\n",
              "30500.00000       2\n",
              "47000.00000       2\n",
              "47500.00000       2\n",
              "44000.00000       2\n",
              "41500.00000       2\n",
              "41000.00000       2\n",
              "33500.00000       2\n",
              "1500.00000        2\n",
              "54000.00000       2\n",
              "77000.00000       2\n",
              "215000.00000      2\n",
              "210000.00000      2\n",
              "7500.00000        2\n",
              "111500.00000      2\n",
              "13500.00000       2\n",
              "17500.00000       2\n",
              "88000.00000       2\n",
              "73500.00000       2\n",
              "69000.00000       2\n",
              "61500.00000       2\n",
              "21500.00000       1\n",
              "20500.00000       1\n",
              "28500.00000       1\n",
              "22833.33333       1\n",
              "11500.00000       1\n",
              "11000.00000       1\n",
              "10500.00000       1\n",
              "25500.00000       1\n",
              "27200.00000       1\n",
              "4000.00000        1\n",
              "35111.11111       1\n",
              "300000.00000      1\n",
              "36500.00000       1\n",
              "91000.00000       1\n",
              "94000.00000       1\n",
              "97000.00000       1\n",
              "99500.00000       1\n",
              "101000.00000      1\n",
              "102000.00000      1\n",
              "103000.00000      1\n",
              "104000.00000      1\n",
              "104500.00000      1\n",
              "109500.00000      1\n",
              "111000.00000      1\n",
              "112500.00000      1\n",
              "113000.00000      1\n",
              "118000.00000      1\n",
              "122000.00000      1\n",
              "135500.00000      1\n",
              "136000.00000      1\n",
              "146000.00000      1\n",
              "196000.00000      1\n",
              "205000.00000      1\n",
              "220000.00000      1\n",
              "225000.00000      1\n",
              "230000.00000      1\n",
              "250000.00000      1\n",
              "92000.00000       1\n",
              "82000.00000       1\n",
              "36666.66667       1\n",
              "81000.00000       1\n",
              "37500.00000       1\n",
              "39000.00000       1\n",
              "40500.00000       1\n",
              "42500.00000       1\n",
              "43500.00000       1\n",
              "44500.00000       1\n",
              "46500.00000       1\n",
              "49000.00000       1\n",
              "52500.00000       1\n",
              "55500.00000       1\n",
              "280000.00000      1\n",
              "57500.00000       1\n",
              "61000.00000       1\n",
              "62500.00000       1\n",
              "64000.00000       1\n",
              "65500.00000       1\n",
              "67272.72727       1\n",
              "67500.00000       1\n",
              "68000.00000       1\n",
              "72272.72727       1\n",
              "78000.00000       1\n",
              "79000.00000       1\n",
              "80500.00000       1\n",
              "56500.00000       1\n",
              "Name: CreditLimit, dtype: int64"
            ]
          },
          "metadata": {},
          "execution_count": 69
        }
      ]
    },
    {
      "cell_type": "code",
      "metadata": {
        "id": "mnM6m6q_mWr2"
      },
      "source": [
        "pd.set_option('display.max_columns', 100) #replace n with the number of columns you want to see completely\n",
        "pd.set_option('display.max_rows', 50) #replace n with the number of rows you want to see completely"
      ],
      "execution_count": 70,
      "outputs": []
    },
    {
      "cell_type": "code",
      "metadata": {
        "id": "aIFFAn0DmWr2",
        "outputId": "0ed627b7-7e0c-400e-9654-5c68571b731e",
        "colab": {
          "base_uri": "https://localhost:8080/",
          "height": 487
        }
      },
      "source": [
        "df.sort_values(\"CreditLimit\")"
      ],
      "execution_count": 71,
      "outputs": [
        {
          "output_type": "execute_result",
          "data": {
            "text/plain": [
              "      CustID  Age Province  Years  CreditLimit       Payment  Min_payment  \\\n",
              "5202    5348   24  Bangkok      6       1500.0    8040.63354  37276.43932   \n",
              "5201    5347   23  Bangkok      6       1500.0    1196.26820   2525.15849   \n",
              "5199    5345   23  Bangkok      6       2000.0    1874.89678   1867.03736   \n",
              "5198    5344   21  Bangkok      6       2000.0    2551.03798   1989.33162   \n",
              "5200    5346   22  Bangkok      6       2000.0     944.94445   1573.94691   \n",
              "...      ...  ...      ...    ...          ...           ...          ...   \n",
              "4          5   22  Bangkok      6     225000.0  469305.98240  29740.69421   \n",
              "3          4   25   Phuket      6     230000.0   12120.54219    687.25483   \n",
              "2          3   43  Bangkok      7     250000.0   13891.67981   2628.26661   \n",
              "1          2   80  Bangkok      7     280000.0  265570.97240   5860.29097   \n",
              "0          1   33  Bangkok      5     300000.0   57728.13158   4721.03929   \n",
              "\n",
              "      Ndefault       Balance  Balance_Freq  N_purchases  LastPurchase  \\\n",
              "5202         0    3488.13275      1.000000            0           0.0   \n",
              "5201         0    1120.10460      1.000000            4        2290.0   \n",
              "5199         0     429.96921      1.000000            4        2300.4   \n",
              "5198         0    1071.30020      1.000000            1         154.0   \n",
              "5200         0     727.23403      0.909091            0           0.0   \n",
              "...        ...           ...           ...          ...           ...   \n",
              "4            0  115475.20010      1.000000          101      490395.7   \n",
              "3            1     431.03899      0.454545            2        3700.0   \n",
              "2            0    1775.92802      1.000000           25       14715.5   \n",
              "1            0   31083.93701      0.900000           55      265823.4   \n",
              "0            1   14092.56223      0.900000           24       45696.5   \n",
              "\n",
              "      MaxPurchase  Inst_purchase       Advance  Count_Advance_Tx  \\\n",
              "5202          0.0            0.0    166.442694          0.000000   \n",
              "5201       2290.0            0.0      0.000000          0.181818   \n",
              "5199       2300.4            0.0      0.000000          0.250000   \n",
              "5198        154.0            0.0   1095.967920          0.083333   \n",
              "5200          0.0            0.0    808.513350          0.000000   \n",
              "...           ...            ...           ...               ...   \n",
              "4        407612.5        82783.2   3349.001316          1.000000   \n",
              "3          3700.0            0.0      0.000000          0.166667   \n",
              "2         14715.5            0.0      0.000000          1.000000   \n",
              "1        151589.0       114234.4      0.000000          0.900000   \n",
              "0         17489.4        28207.1  23301.107800          0.700000   \n",
              "\n",
              "      Purchase_Freq  Installment_Freq  Advance_Freq  Pct_full_payment  \n",
              "5202       0.000000          0.083333             1          0.083333  \n",
              "5201       0.000000          0.000000             0          0.000000  \n",
              "5199       0.000000          0.000000             0          0.000000  \n",
              "5198       0.000000          0.333333             6          0.000000  \n",
              "5200       0.000000          0.250000             3          0.000000  \n",
              "...             ...               ...           ...               ...  \n",
              "4          0.916667          0.083333             1          0.250000  \n",
              "3          0.000000          0.000000             0          0.000000  \n",
              "2          0.000000          0.000000             0          0.916667  \n",
              "1          0.800000          0.000000             0          0.875000  \n",
              "0          0.600000          0.400000             5          0.000000  \n",
              "\n",
              "[4959 rows x 20 columns]"
            ],
            "text/html": [
              "\n",
              "  <div id=\"df-96900531-ea11-40e9-a9e2-6e08a1df997d\">\n",
              "    <div class=\"colab-df-container\">\n",
              "      <div>\n",
              "<style scoped>\n",
              "    .dataframe tbody tr th:only-of-type {\n",
              "        vertical-align: middle;\n",
              "    }\n",
              "\n",
              "    .dataframe tbody tr th {\n",
              "        vertical-align: top;\n",
              "    }\n",
              "\n",
              "    .dataframe thead th {\n",
              "        text-align: right;\n",
              "    }\n",
              "</style>\n",
              "<table border=\"1\" class=\"dataframe\">\n",
              "  <thead>\n",
              "    <tr style=\"text-align: right;\">\n",
              "      <th></th>\n",
              "      <th>CustID</th>\n",
              "      <th>Age</th>\n",
              "      <th>Province</th>\n",
              "      <th>Years</th>\n",
              "      <th>CreditLimit</th>\n",
              "      <th>Payment</th>\n",
              "      <th>Min_payment</th>\n",
              "      <th>Ndefault</th>\n",
              "      <th>Balance</th>\n",
              "      <th>Balance_Freq</th>\n",
              "      <th>N_purchases</th>\n",
              "      <th>LastPurchase</th>\n",
              "      <th>MaxPurchase</th>\n",
              "      <th>Inst_purchase</th>\n",
              "      <th>Advance</th>\n",
              "      <th>Count_Advance_Tx</th>\n",
              "      <th>Purchase_Freq</th>\n",
              "      <th>Installment_Freq</th>\n",
              "      <th>Advance_Freq</th>\n",
              "      <th>Pct_full_payment</th>\n",
              "    </tr>\n",
              "  </thead>\n",
              "  <tbody>\n",
              "    <tr>\n",
              "      <th>5202</th>\n",
              "      <td>5348</td>\n",
              "      <td>24</td>\n",
              "      <td>Bangkok</td>\n",
              "      <td>6</td>\n",
              "      <td>1500.0</td>\n",
              "      <td>8040.63354</td>\n",
              "      <td>37276.43932</td>\n",
              "      <td>0</td>\n",
              "      <td>3488.13275</td>\n",
              "      <td>1.000000</td>\n",
              "      <td>0</td>\n",
              "      <td>0.0</td>\n",
              "      <td>0.0</td>\n",
              "      <td>0.0</td>\n",
              "      <td>166.442694</td>\n",
              "      <td>0.000000</td>\n",
              "      <td>0.000000</td>\n",
              "      <td>0.083333</td>\n",
              "      <td>1</td>\n",
              "      <td>0.083333</td>\n",
              "    </tr>\n",
              "    <tr>\n",
              "      <th>5201</th>\n",
              "      <td>5347</td>\n",
              "      <td>23</td>\n",
              "      <td>Bangkok</td>\n",
              "      <td>6</td>\n",
              "      <td>1500.0</td>\n",
              "      <td>1196.26820</td>\n",
              "      <td>2525.15849</td>\n",
              "      <td>0</td>\n",
              "      <td>1120.10460</td>\n",
              "      <td>1.000000</td>\n",
              "      <td>4</td>\n",
              "      <td>2290.0</td>\n",
              "      <td>2290.0</td>\n",
              "      <td>0.0</td>\n",
              "      <td>0.000000</td>\n",
              "      <td>0.181818</td>\n",
              "      <td>0.000000</td>\n",
              "      <td>0.000000</td>\n",
              "      <td>0</td>\n",
              "      <td>0.000000</td>\n",
              "    </tr>\n",
              "    <tr>\n",
              "      <th>5199</th>\n",
              "      <td>5345</td>\n",
              "      <td>23</td>\n",
              "      <td>Bangkok</td>\n",
              "      <td>6</td>\n",
              "      <td>2000.0</td>\n",
              "      <td>1874.89678</td>\n",
              "      <td>1867.03736</td>\n",
              "      <td>0</td>\n",
              "      <td>429.96921</td>\n",
              "      <td>1.000000</td>\n",
              "      <td>4</td>\n",
              "      <td>2300.4</td>\n",
              "      <td>2300.4</td>\n",
              "      <td>0.0</td>\n",
              "      <td>0.000000</td>\n",
              "      <td>0.250000</td>\n",
              "      <td>0.000000</td>\n",
              "      <td>0.000000</td>\n",
              "      <td>0</td>\n",
              "      <td>0.000000</td>\n",
              "    </tr>\n",
              "    <tr>\n",
              "      <th>5198</th>\n",
              "      <td>5344</td>\n",
              "      <td>21</td>\n",
              "      <td>Bangkok</td>\n",
              "      <td>6</td>\n",
              "      <td>2000.0</td>\n",
              "      <td>2551.03798</td>\n",
              "      <td>1989.33162</td>\n",
              "      <td>0</td>\n",
              "      <td>1071.30020</td>\n",
              "      <td>1.000000</td>\n",
              "      <td>1</td>\n",
              "      <td>154.0</td>\n",
              "      <td>154.0</td>\n",
              "      <td>0.0</td>\n",
              "      <td>1095.967920</td>\n",
              "      <td>0.083333</td>\n",
              "      <td>0.000000</td>\n",
              "      <td>0.333333</td>\n",
              "      <td>6</td>\n",
              "      <td>0.000000</td>\n",
              "    </tr>\n",
              "    <tr>\n",
              "      <th>5200</th>\n",
              "      <td>5346</td>\n",
              "      <td>22</td>\n",
              "      <td>Bangkok</td>\n",
              "      <td>6</td>\n",
              "      <td>2000.0</td>\n",
              "      <td>944.94445</td>\n",
              "      <td>1573.94691</td>\n",
              "      <td>0</td>\n",
              "      <td>727.23403</td>\n",
              "      <td>0.909091</td>\n",
              "      <td>0</td>\n",
              "      <td>0.0</td>\n",
              "      <td>0.0</td>\n",
              "      <td>0.0</td>\n",
              "      <td>808.513350</td>\n",
              "      <td>0.000000</td>\n",
              "      <td>0.000000</td>\n",
              "      <td>0.250000</td>\n",
              "      <td>3</td>\n",
              "      <td>0.000000</td>\n",
              "    </tr>\n",
              "    <tr>\n",
              "      <th>...</th>\n",
              "      <td>...</td>\n",
              "      <td>...</td>\n",
              "      <td>...</td>\n",
              "      <td>...</td>\n",
              "      <td>...</td>\n",
              "      <td>...</td>\n",
              "      <td>...</td>\n",
              "      <td>...</td>\n",
              "      <td>...</td>\n",
              "      <td>...</td>\n",
              "      <td>...</td>\n",
              "      <td>...</td>\n",
              "      <td>...</td>\n",
              "      <td>...</td>\n",
              "      <td>...</td>\n",
              "      <td>...</td>\n",
              "      <td>...</td>\n",
              "      <td>...</td>\n",
              "      <td>...</td>\n",
              "      <td>...</td>\n",
              "    </tr>\n",
              "    <tr>\n",
              "      <th>4</th>\n",
              "      <td>5</td>\n",
              "      <td>22</td>\n",
              "      <td>Bangkok</td>\n",
              "      <td>6</td>\n",
              "      <td>225000.0</td>\n",
              "      <td>469305.98240</td>\n",
              "      <td>29740.69421</td>\n",
              "      <td>0</td>\n",
              "      <td>115475.20010</td>\n",
              "      <td>1.000000</td>\n",
              "      <td>101</td>\n",
              "      <td>490395.7</td>\n",
              "      <td>407612.5</td>\n",
              "      <td>82783.2</td>\n",
              "      <td>3349.001316</td>\n",
              "      <td>1.000000</td>\n",
              "      <td>0.916667</td>\n",
              "      <td>0.083333</td>\n",
              "      <td>1</td>\n",
              "      <td>0.250000</td>\n",
              "    </tr>\n",
              "    <tr>\n",
              "      <th>3</th>\n",
              "      <td>4</td>\n",
              "      <td>25</td>\n",
              "      <td>Phuket</td>\n",
              "      <td>6</td>\n",
              "      <td>230000.0</td>\n",
              "      <td>12120.54219</td>\n",
              "      <td>687.25483</td>\n",
              "      <td>1</td>\n",
              "      <td>431.03899</td>\n",
              "      <td>0.454545</td>\n",
              "      <td>2</td>\n",
              "      <td>3700.0</td>\n",
              "      <td>3700.0</td>\n",
              "      <td>0.0</td>\n",
              "      <td>0.000000</td>\n",
              "      <td>0.166667</td>\n",
              "      <td>0.000000</td>\n",
              "      <td>0.000000</td>\n",
              "      <td>0</td>\n",
              "      <td>0.000000</td>\n",
              "    </tr>\n",
              "    <tr>\n",
              "      <th>2</th>\n",
              "      <td>3</td>\n",
              "      <td>43</td>\n",
              "      <td>Bangkok</td>\n",
              "      <td>7</td>\n",
              "      <td>250000.0</td>\n",
              "      <td>13891.67981</td>\n",
              "      <td>2628.26661</td>\n",
              "      <td>0</td>\n",
              "      <td>1775.92802</td>\n",
              "      <td>1.000000</td>\n",
              "      <td>25</td>\n",
              "      <td>14715.5</td>\n",
              "      <td>14715.5</td>\n",
              "      <td>0.0</td>\n",
              "      <td>0.000000</td>\n",
              "      <td>1.000000</td>\n",
              "      <td>0.000000</td>\n",
              "      <td>0.000000</td>\n",
              "      <td>0</td>\n",
              "      <td>0.916667</td>\n",
              "    </tr>\n",
              "    <tr>\n",
              "      <th>1</th>\n",
              "      <td>2</td>\n",
              "      <td>80</td>\n",
              "      <td>Bangkok</td>\n",
              "      <td>7</td>\n",
              "      <td>280000.0</td>\n",
              "      <td>265570.97240</td>\n",
              "      <td>5860.29097</td>\n",
              "      <td>0</td>\n",
              "      <td>31083.93701</td>\n",
              "      <td>0.900000</td>\n",
              "      <td>55</td>\n",
              "      <td>265823.4</td>\n",
              "      <td>151589.0</td>\n",
              "      <td>114234.4</td>\n",
              "      <td>0.000000</td>\n",
              "      <td>0.900000</td>\n",
              "      <td>0.800000</td>\n",
              "      <td>0.000000</td>\n",
              "      <td>0</td>\n",
              "      <td>0.875000</td>\n",
              "    </tr>\n",
              "    <tr>\n",
              "      <th>0</th>\n",
              "      <td>1</td>\n",
              "      <td>33</td>\n",
              "      <td>Bangkok</td>\n",
              "      <td>5</td>\n",
              "      <td>300000.0</td>\n",
              "      <td>57728.13158</td>\n",
              "      <td>4721.03929</td>\n",
              "      <td>1</td>\n",
              "      <td>14092.56223</td>\n",
              "      <td>0.900000</td>\n",
              "      <td>24</td>\n",
              "      <td>45696.5</td>\n",
              "      <td>17489.4</td>\n",
              "      <td>28207.1</td>\n",
              "      <td>23301.107800</td>\n",
              "      <td>0.700000</td>\n",
              "      <td>0.600000</td>\n",
              "      <td>0.400000</td>\n",
              "      <td>5</td>\n",
              "      <td>0.000000</td>\n",
              "    </tr>\n",
              "  </tbody>\n",
              "</table>\n",
              "<p>4959 rows × 20 columns</p>\n",
              "</div>\n",
              "      <button class=\"colab-df-convert\" onclick=\"convertToInteractive('df-96900531-ea11-40e9-a9e2-6e08a1df997d')\"\n",
              "              title=\"Convert this dataframe to an interactive table.\"\n",
              "              style=\"display:none;\">\n",
              "        \n",
              "  <svg xmlns=\"http://www.w3.org/2000/svg\" height=\"24px\"viewBox=\"0 0 24 24\"\n",
              "       width=\"24px\">\n",
              "    <path d=\"M0 0h24v24H0V0z\" fill=\"none\"/>\n",
              "    <path d=\"M18.56 5.44l.94 2.06.94-2.06 2.06-.94-2.06-.94-.94-2.06-.94 2.06-2.06.94zm-11 1L8.5 8.5l.94-2.06 2.06-.94-2.06-.94L8.5 2.5l-.94 2.06-2.06.94zm10 10l.94 2.06.94-2.06 2.06-.94-2.06-.94-.94-2.06-.94 2.06-2.06.94z\"/><path d=\"M17.41 7.96l-1.37-1.37c-.4-.4-.92-.59-1.43-.59-.52 0-1.04.2-1.43.59L10.3 9.45l-7.72 7.72c-.78.78-.78 2.05 0 2.83L4 21.41c.39.39.9.59 1.41.59.51 0 1.02-.2 1.41-.59l7.78-7.78 2.81-2.81c.8-.78.8-2.07 0-2.86zM5.41 20L4 18.59l7.72-7.72 1.47 1.35L5.41 20z\"/>\n",
              "  </svg>\n",
              "      </button>\n",
              "      \n",
              "  <style>\n",
              "    .colab-df-container {\n",
              "      display:flex;\n",
              "      flex-wrap:wrap;\n",
              "      gap: 12px;\n",
              "    }\n",
              "\n",
              "    .colab-df-convert {\n",
              "      background-color: #E8F0FE;\n",
              "      border: none;\n",
              "      border-radius: 50%;\n",
              "      cursor: pointer;\n",
              "      display: none;\n",
              "      fill: #1967D2;\n",
              "      height: 32px;\n",
              "      padding: 0 0 0 0;\n",
              "      width: 32px;\n",
              "    }\n",
              "\n",
              "    .colab-df-convert:hover {\n",
              "      background-color: #E2EBFA;\n",
              "      box-shadow: 0px 1px 2px rgba(60, 64, 67, 0.3), 0px 1px 3px 1px rgba(60, 64, 67, 0.15);\n",
              "      fill: #174EA6;\n",
              "    }\n",
              "\n",
              "    [theme=dark] .colab-df-convert {\n",
              "      background-color: #3B4455;\n",
              "      fill: #D2E3FC;\n",
              "    }\n",
              "\n",
              "    [theme=dark] .colab-df-convert:hover {\n",
              "      background-color: #434B5C;\n",
              "      box-shadow: 0px 1px 3px 1px rgba(0, 0, 0, 0.15);\n",
              "      filter: drop-shadow(0px 1px 2px rgba(0, 0, 0, 0.3));\n",
              "      fill: #FFFFFF;\n",
              "    }\n",
              "  </style>\n",
              "\n",
              "      <script>\n",
              "        const buttonEl =\n",
              "          document.querySelector('#df-96900531-ea11-40e9-a9e2-6e08a1df997d button.colab-df-convert');\n",
              "        buttonEl.style.display =\n",
              "          google.colab.kernel.accessAllowed ? 'block' : 'none';\n",
              "\n",
              "        async function convertToInteractive(key) {\n",
              "          const element = document.querySelector('#df-96900531-ea11-40e9-a9e2-6e08a1df997d');\n",
              "          const dataTable =\n",
              "            await google.colab.kernel.invokeFunction('convertToInteractive',\n",
              "                                                     [key], {});\n",
              "          if (!dataTable) return;\n",
              "\n",
              "          const docLinkHtml = 'Like what you see? Visit the ' +\n",
              "            '<a target=\"_blank\" href=https://colab.research.google.com/notebooks/data_table.ipynb>data table notebook</a>'\n",
              "            + ' to learn more about interactive tables.';\n",
              "          element.innerHTML = '';\n",
              "          dataTable['output_type'] = 'display_data';\n",
              "          await google.colab.output.renderOutput(dataTable, element);\n",
              "          const docLink = document.createElement('div');\n",
              "          docLink.innerHTML = docLinkHtml;\n",
              "          element.appendChild(docLink);\n",
              "        }\n",
              "      </script>\n",
              "    </div>\n",
              "  </div>\n",
              "  "
            ]
          },
          "metadata": {},
          "execution_count": 71
        }
      ]
    },
    {
      "cell_type": "code",
      "metadata": {
        "id": "sHFdLUyCmWr3",
        "outputId": "0bdd0d37-9a8f-4921-e4eb-d485d03f4928",
        "colab": {
          "base_uri": "https://localhost:8080/"
        }
      },
      "source": [
        "df.count()"
      ],
      "execution_count": 72,
      "outputs": [
        {
          "output_type": "execute_result",
          "data": {
            "text/plain": [
              "CustID              4959\n",
              "Age                 4959\n",
              "Province            4959\n",
              "Years               4959\n",
              "CreditLimit         4959\n",
              "Payment             4959\n",
              "Min_payment         4959\n",
              "Ndefault            4959\n",
              "Balance             4959\n",
              "Balance_Freq        4959\n",
              "N_purchases         4959\n",
              "LastPurchase        4959\n",
              "MaxPurchase         4959\n",
              "Inst_purchase       4959\n",
              "Advance             4959\n",
              "Count_Advance_Tx    4959\n",
              "Purchase_Freq       4959\n",
              "Installment_Freq    4959\n",
              "Advance_Freq        4959\n",
              "Pct_full_payment    4959\n",
              "dtype: int64"
            ]
          },
          "metadata": {},
          "execution_count": 72
        }
      ]
    },
    {
      "cell_type": "code",
      "metadata": {
        "id": "DWKfRx_EmWr4",
        "outputId": "85723953-b307-46cf-b2ed-a9143aeaa7ae",
        "colab": {
          "base_uri": "https://localhost:8080/",
          "height": 758
        }
      },
      "source": [
        "df['Payment'].hist(bins=50,figsize=(10,10))\n",
        "df['Payment'].describe()"
      ],
      "execution_count": 73,
      "outputs": [
        {
          "output_type": "execute_result",
          "data": {
            "text/plain": [
              "count      4959.000000\n",
              "mean      20495.811758\n",
              "std       31859.739040\n",
              "min           0.000000\n",
              "25%        4765.187220\n",
              "50%       10826.599060\n",
              "75%       22614.378545\n",
              "max      507214.833600\n",
              "Name: Payment, dtype: float64"
            ]
          },
          "metadata": {},
          "execution_count": 73
        },
        {
          "output_type": "display_data",
          "data": {
            "text/plain": [
              "<Figure size 720x720 with 1 Axes>"
            ],
            "image/png": "[encoded data removed]"
          },
          "metadata": {
            "needs_background": "light"
          }
        }
      ]
    },
    {
      "cell_type": "code",
      "metadata": {
        "id": "Ef9EmiRMmWr5",
        "outputId": "77319e97-c43b-4089-9eeb-ba974ba12ee3",
        "colab": {
          "base_uri": "https://localhost:8080/",
          "height": 758
        }
      },
      "source": [
        "df['Min_payment'].hist(bins=50,figsize=(10,10))\n",
        "df['Min_payment'].describe()"
      ],
      "execution_count": 74,
      "outputs": [
        {
          "output_type": "execute_result",
          "data": {
            "text/plain": [
              "count      4959.000000\n",
              "mean       9180.844380\n",
              "std       23002.445353\n",
              "min           0.000000\n",
              "25%        1737.033780\n",
              "50%        3654.723190\n",
              "75%        9813.613550\n",
              "max      764062.075200\n",
              "Name: Min_payment, dtype: float64"
            ]
          },
          "metadata": {},
          "execution_count": 74
        },
        {
          "output_type": "display_data",
          "data": {
            "text/plain": [
              "<Figure size 720x720 with 1 Axes>"
            ],
            "image/png": "[encoded data removed]"
          },
          "metadata": {
            "needs_background": "light"
          }
        }
      ]
    },
    {
      "cell_type": "code",
      "metadata": {
        "id": "ORHOBPnQmWr5",
        "outputId": "025c2d32-d68c-4999-d805-03379d922e07",
        "colab": {
          "base_uri": "https://localhost:8080/",
          "height": 758
        }
      },
      "source": [
        "df['Balance'].hist(bins=50,figsize=(10,10))\n",
        "df['Balance'].describe()"
      ],
      "execution_count": 75,
      "outputs": [
        {
          "output_type": "execute_result",
          "data": {
            "text/plain": [
              "count      4959.000000\n",
              "mean      19184.452055\n",
              "std       23310.942874\n",
              "min           0.000000\n",
              "25%        2014.637705\n",
              "50%       11174.614720\n",
              "75%       26897.409200\n",
              "max      190431.385600\n",
              "Name: Balance, dtype: float64"
            ]
          },
          "metadata": {},
          "execution_count": 75
        },
        {
          "output_type": "display_data",
          "data": {
            "text/plain": [
              "<Figure size 720x720 with 1 Axes>"
            ],
            "image/png": "[encoded data removed]"
          },
          "metadata": {
            "needs_background": "light"
          }
        }
      ]
    },
    {
      "cell_type": "code",
      "metadata": {
        "id": "POSxSkt5mWr6",
        "outputId": "6ae5364e-79a6-40c3-d499-d59ab74f65cf",
        "colab": {
          "base_uri": "https://localhost:8080/",
          "height": 758
        }
      },
      "source": [
        "df['Balance_Freq'].hist(bins=50,figsize=(10,10))\n",
        "df['Balance_Freq'].describe()"
      ],
      "execution_count": 76,
      "outputs": [
        {
          "output_type": "execute_result",
          "data": {
            "text/plain": [
              "count    4959.000000\n",
              "mean        0.895483\n",
              "std         0.219710\n",
              "min         0.000000\n",
              "25%         0.909091\n",
              "50%         1.000000\n",
              "75%         1.000000\n",
              "max         1.000000\n",
              "Name: Balance_Freq, dtype: float64"
            ]
          },
          "metadata": {},
          "execution_count": 76
        },
        {
          "output_type": "display_data",
          "data": {
            "text/plain": [
              "<Figure size 720x720 with 1 Axes>"
            ],
            "image/png": "[encoded data removed]"
          },
          "metadata": {
            "needs_background": "light"
          }
        }
      ]
    },
    {
      "cell_type": "code",
      "metadata": {
        "id": "jDJ7ABcLmWr7",
        "outputId": "dbb15b5f-31b6-44d2-df88-500b1d33e4cf",
        "colab": {
          "base_uri": "https://localhost:8080/",
          "height": 758
        }
      },
      "source": [
        "df['N_purchases'].hist(bins=50,figsize=(10,10))\n",
        "df['N_purchases'].describe()"
      ],
      "execution_count": 77,
      "outputs": [
        {
          "output_type": "execute_result",
          "data": {
            "text/plain": [
              "count    4959.000000\n",
              "mean       16.666062\n",
              "std        28.337899\n",
              "min         0.000000\n",
              "25%         1.000000\n",
              "50%         8.000000\n",
              "75%        20.000000\n",
              "max       358.000000\n",
              "Name: N_purchases, dtype: float64"
            ]
          },
          "metadata": {},
          "execution_count": 77
        },
        {
          "output_type": "display_data",
          "data": {
            "text/plain": [
              "<Figure size 720x720 with 1 Axes>"
            ],
            "image/png": "[encoded data removed]"
          },
          "metadata": {
            "needs_background": "light"
          }
        }
      ]
    },
    {
      "cell_type": "code",
      "metadata": {
        "id": "8D7aQKLqmWr8",
        "outputId": "02eeb1cc-09f0-4799-b8d7-c3155dbccdd1",
        "colab": {
          "base_uri": "https://localhost:8080/",
          "height": 758
        }
      },
      "source": [
        "df['LastPurchase'].hist(bins=50,figsize=(10,10))\n",
        "df['LastPurchase'].describe()"
      ],
      "execution_count": 78,
      "outputs": [
        {
          "output_type": "execute_result",
          "data": {
            "text/plain": [
              "count      4959.000000\n",
              "mean      11888.790905\n",
              "std       24147.586718\n",
              "min           0.000000\n",
              "25%         448.500000\n",
              "50%        4335.000000\n",
              "75%       13443.650000\n",
              "max      490395.700000\n",
              "Name: LastPurchase, dtype: float64"
            ]
          },
          "metadata": {},
          "execution_count": 78
        },
        {
          "output_type": "display_data",
          "data": {
            "text/plain": [
              "<Figure size 720x720 with 1 Axes>"
            ],
            "image/png": "[encoded data removed]"
          },
          "metadata": {
            "needs_background": "light"
          }
        }
      ]
    },
    {
      "cell_type": "code",
      "metadata": {
        "id": "7j_KM1z8mWr9",
        "outputId": "73ee2653-b8e7-40b3-de9b-0db609927cbd",
        "colab": {
          "base_uri": "https://localhost:8080/",
          "height": 758
        }
      },
      "source": [
        "df['MaxPurchase'].hist(bins=50,figsize=(10,10))\n",
        "df['MaxPurchase'].describe()"
      ],
      "execution_count": 79,
      "outputs": [
        {
          "output_type": "execute_result",
          "data": {
            "text/plain": [
              "count      4959.000000\n",
              "mean       7303.699173\n",
              "std       18219.857195\n",
              "min           0.000000\n",
              "25%           0.000000\n",
              "50%        1108.000000\n",
              "75%        7733.850000\n",
              "max      407612.500000\n",
              "Name: MaxPurchase, dtype: float64"
            ]
          },
          "metadata": {},
          "execution_count": 79
        },
        {
          "output_type": "display_data",
          "data": {
            "text/plain": [
              "<Figure size 720x720 with 1 Axes>"
            ],
            "image/png": "[encoded data removed]"
          },
          "metadata": {
            "needs_background": "light"
          }
        }
      ]
    },
    {
      "cell_type": "code",
      "metadata": {
        "id": "tCK-_R84mWr-",
        "outputId": "974b250e-47cc-41d9-e3ee-116270a35827",
        "colab": {
          "base_uri": "https://localhost:8080/",
          "height": 758
        }
      },
      "source": [
        "df['Inst_purchase'].hist(bins=50,figsize=(10,10))\n",
        "df['Inst_purchase'].describe()"
      ],
      "execution_count": 80,
      "outputs": [
        {
          "output_type": "execute_result",
          "data": {
            "text/plain": [
              "count      4959.000000\n",
              "mean       4585.518371\n",
              "std       10286.356456\n",
              "min           0.000000\n",
              "25%           0.000000\n",
              "50%         775.000000\n",
              "75%        5099.400000\n",
              "max      154971.900000\n",
              "Name: Inst_purchase, dtype: float64"
            ]
          },
          "metadata": {},
          "execution_count": 80
        },
        {
          "output_type": "display_data",
          "data": {
            "text/plain": [
              "<Figure size 720x720 with 1 Axes>"
            ],
            "image/png": "[encoded data removed]"
          },
          "metadata": {
            "needs_background": "light"
          }
        }
      ]
    },
    {
      "cell_type": "code",
      "metadata": {
        "id": "EF0B6qZlmWr_",
        "outputId": "7d1be60b-21ca-4a37-fd33-149b84ff10b2",
        "colab": {
          "base_uri": "https://localhost:8080/",
          "height": 758
        }
      },
      "source": [
        "df['Advance'].hist(bins=50,figsize=(10,10))\n",
        "df['Advance'].describe()"
      ],
      "execution_count": 81,
      "outputs": [
        {
          "output_type": "execute_result",
          "data": {
            "text/plain": [
              "count      4959.000000\n",
              "mean       6614.809110\n",
              "std       13629.452359\n",
              "min           0.000000\n",
              "25%           0.000000\n",
              "50%           0.000000\n",
              "75%        7832.621010\n",
              "max      282823.270600\n",
              "Name: Advance, dtype: float64"
            ]
          },
          "metadata": {},
          "execution_count": 81
        },
        {
          "output_type": "display_data",
          "data": {
            "text/plain": [
              "<Figure size 720x720 with 1 Axes>"
            ],
            "image/png": "[encoded data removed]"
          },
          "metadata": {
            "needs_background": "light"
          }
        }
      ]
    },
    {
      "cell_type": "code",
      "metadata": {
        "id": "seeIIMrhmWsA",
        "outputId": "1bd91997-9e39-4669-b0e6-d0d44f0e195c",
        "colab": {
          "base_uri": "https://localhost:8080/",
          "height": 758
        }
      },
      "source": [
        "df['Count_Advance_Tx'].hist(bins=50,figsize=(10,10))\n",
        "df['Count_Advance_Tx'].describe()"
      ],
      "execution_count": 82,
      "outputs": [
        {
          "output_type": "execute_result",
          "data": {
            "text/plain": [
              "count    4959.000000\n",
              "mean        0.493571\n",
              "std         0.402573\n",
              "min         0.000000\n",
              "25%         0.083333\n",
              "50%         0.500000\n",
              "75%         0.916667\n",
              "max         1.000000\n",
              "Name: Count_Advance_Tx, dtype: float64"
            ]
          },
          "metadata": {},
          "execution_count": 82
        },
        {
          "output_type": "display_data",
          "data": {
            "text/plain": [
              "<Figure size 720x720 with 1 Axes>"
            ],
            "image/png": "[encoded data removed]"
          },
          "metadata": {
            "needs_background": "light"
          }
        }
      ]
    },
    {
      "cell_type": "code",
      "metadata": {
        "id": "WpXb5N5tmWsU",
        "outputId": "7165c659-3be8-4b45-a387-ba2942b1d671",
        "colab": {
          "base_uri": "https://localhost:8080/",
          "height": 758
        }
      },
      "source": [
        "df['Purchase_Freq'].hist(bins=50,figsize=(10,10))\n",
        "df['Purchase_Freq'].describe()"
      ],
      "execution_count": 83,
      "outputs": [
        {
          "output_type": "execute_result",
          "data": {
            "text/plain": [
              "count    4959.000000\n",
              "mean        0.351702\n",
              "std         0.395423\n",
              "min         0.000000\n",
              "25%         0.000000\n",
              "50%         0.166667\n",
              "75%         0.750000\n",
              "max         1.000000\n",
              "Name: Purchase_Freq, dtype: float64"
            ]
          },
          "metadata": {},
          "execution_count": 83
        },
        {
          "output_type": "display_data",
          "data": {
            "text/plain": [
              "<Figure size 720x720 with 1 Axes>"
            ],
            "image/png": "[encoded data removed]"
          },
          "metadata": {
            "needs_background": "light"
          }
        }
      ]
    },
    {
      "cell_type": "code",
      "metadata": {
        "id": "U8b03MezmWsV",
        "outputId": "acc6b9b9-615b-4ec4-95b4-94f2984f97bc",
        "colab": {
          "base_uri": "https://localhost:8080/",
          "height": 758
        }
      },
      "source": [
        "df['Installment_Freq'].hist(bins=50,figsize=(10,10))\n",
        "df['Installment_Freq'].describe()"
      ],
      "execution_count": 84,
      "outputs": [
        {
          "output_type": "execute_result",
          "data": {
            "text/plain": [
              "count    4959.000000\n",
              "mean        0.138327\n",
              "std         0.202941\n",
              "min         0.000000\n",
              "25%         0.000000\n",
              "50%         0.000000\n",
              "75%         0.250000\n",
              "max         1.500000\n",
              "Name: Installment_Freq, dtype: float64"
            ]
          },
          "metadata": {},
          "execution_count": 84
        },
        {
          "output_type": "display_data",
          "data": {
            "text/plain": [
              "<Figure size 720x720 with 1 Axes>"
            ],
            "image/png": "[encoded data removed]"
          },
          "metadata": {
            "needs_background": "light"
          }
        }
      ]
    },
    {
      "cell_type": "code",
      "metadata": {
        "id": "ZX7WntFImWsY",
        "outputId": "e1c82553-d2ea-4f45-f627-5968e6be3860",
        "colab": {
          "base_uri": "https://localhost:8080/",
          "height": 758
        }
      },
      "source": [
        "df['Advance_Freq'].hist(bins=50,figsize=(10,10))\n",
        "df['Advance_Freq'].describe()"
      ],
      "execution_count": 85,
      "outputs": [
        {
          "output_type": "execute_result",
          "data": {
            "text/plain": [
              "count    4959.000000\n",
              "mean        3.313571\n",
              "std         6.804203\n",
              "min         0.000000\n",
              "25%         0.000000\n",
              "50%         0.000000\n",
              "75%         4.000000\n",
              "max       123.000000\n",
              "Name: Advance_Freq, dtype: float64"
            ]
          },
          "metadata": {},
          "execution_count": 85
        },
        {
          "output_type": "display_data",
          "data": {
            "text/plain": [
              "<Figure size 720x720 with 1 Axes>"
            ],
            "image/png": "[encoded data removed]"
          },
          "metadata": {
            "needs_background": "light"
          }
        }
      ]
    },
    {
      "cell_type": "code",
      "metadata": {
        "id": "T32O-9L0mWsZ",
        "outputId": "7d6fa614-9c7d-45b8-b40f-8792ab49d3ae",
        "colab": {
          "base_uri": "https://localhost:8080/",
          "height": 758
        }
      },
      "source": [
        "df['Pct_full_payment'].hist(bins=50,figsize=(10,10))\n",
        "df['Pct_full_payment'].describe()"
      ],
      "execution_count": 86,
      "outputs": [
        {
          "output_type": "execute_result",
          "data": {
            "text/plain": [
              "count    4959.000000\n",
              "mean        0.145709\n",
              "std         0.287988\n",
              "min         0.000000\n",
              "25%         0.000000\n",
              "50%         0.000000\n",
              "75%         0.100000\n",
              "max         1.000000\n",
              "Name: Pct_full_payment, dtype: float64"
            ]
          },
          "metadata": {},
          "execution_count": 86
        },
        {
          "output_type": "display_data",
          "data": {
            "text/plain": [
              "<Figure size 720x720 with 1 Axes>"
            ],
            "image/png": "[encoded data removed]"
          },
          "metadata": {
            "needs_background": "light"
          }
        }
      ]
    },
    {
      "cell_type": "code",
      "metadata": {
        "id": "L-sh2IswmWsa",
        "outputId": "7e5a6296-0998-4018-d91d-74cd7898fd84",
        "colab": {
          "base_uri": "https://localhost:8080/"
        }
      },
      "source": [
        "df[[\"Balance_Freq\", \"Purchase_Freq\",\"Installment_Freq\"]].gt(1).sum()"
      ],
      "execution_count": 87,
      "outputs": [
        {
          "output_type": "execute_result",
          "data": {
            "text/plain": [
              "Balance_Freq        0\n",
              "Purchase_Freq       0\n",
              "Installment_Freq    5\n",
              "dtype: int64"
            ]
          },
          "metadata": {},
          "execution_count": 87
        }
      ]
    },
    {
      "cell_type": "code",
      "metadata": {
        "id": "-JM9hhdrmWsb",
        "outputId": "b5837271-15f1-4092-f8d8-15135165e8bd",
        "colab": {
          "base_uri": "https://localhost:8080/"
        }
      },
      "source": [
        "index_Installment = df[ df['Installment_Freq'] > 1 ].index\n",
        "index_Installment"
      ],
      "execution_count": 88,
      "outputs": [
        {
          "output_type": "execute_result",
          "data": {
            "text/plain": [
              "Int64Index([244, 663, 2043, 2165, 2792], dtype='int64')"
            ]
          },
          "metadata": {},
          "execution_count": 88
        }
      ]
    },
    {
      "cell_type": "code",
      "metadata": {
        "id": "xgqZMQl0mWsc"
      },
      "source": [
        "df.drop(index_Installment, inplace = True)"
      ],
      "execution_count": 89,
      "outputs": []
    },
    {
      "cell_type": "code",
      "metadata": {
        "id": "Qsviq-LPmWsc",
        "outputId": "b18f5682-3fa0-4d0c-9aaf-9df4f8d4b635",
        "colab": {
          "base_uri": "https://localhost:8080/"
        }
      },
      "source": [
        "df.count()"
      ],
      "execution_count": 90,
      "outputs": [
        {
          "output_type": "execute_result",
          "data": {
            "text/plain": [
              "CustID              4954\n",
              "Age                 4954\n",
              "Province            4954\n",
              "Years               4954\n",
              "CreditLimit         4954\n",
              "Payment             4954\n",
              "Min_payment         4954\n",
              "Ndefault            4954\n",
              "Balance             4954\n",
              "Balance_Freq        4954\n",
              "N_purchases         4954\n",
              "LastPurchase        4954\n",
              "MaxPurchase         4954\n",
              "Inst_purchase       4954\n",
              "Advance             4954\n",
              "Count_Advance_Tx    4954\n",
              "Purchase_Freq       4954\n",
              "Installment_Freq    4954\n",
              "Advance_Freq        4954\n",
              "Pct_full_payment    4954\n",
              "dtype: int64"
            ]
          },
          "metadata": {},
          "execution_count": 90
        }
      ]
    },
    {
      "cell_type": "code",
      "metadata": {
        "id": "gWxxPIxymWsd",
        "outputId": "429a30df-3afc-4598-c87f-f8bccfd42615",
        "colab": {
          "base_uri": "https://localhost:8080/",
          "height": 487
        }
      },
      "source": [
        "df.loc[df['Min_payment'] == 0]"
      ],
      "execution_count": 91,
      "outputs": [
        {
          "output_type": "execute_result",
          "data": {
            "text/plain": [
              "      CustID  Age Province  Years  CreditLimit      Payment  Min_payment  \\\n",
              "118      123   27  Bangkok      7     160000.0      0.00000          0.0   \n",
              "126      132   39  Bangkok      6     155000.0      0.00000          0.0   \n",
              "146      152   35  Bangkok      6     150000.0      0.00000          0.0   \n",
              "254      263   41  Bangkok      6     130000.0      0.00000          0.0   \n",
              "302      313   21  Bangkok      6     125000.0      0.00000          0.0   \n",
              "...      ...  ...      ...    ...          ...          ...          ...   \n",
              "5016    5157   24  Bangkok      6      10000.0   4987.88091          0.0   \n",
              "5034    5175   25  Bangkok      6      10000.0      0.00000          0.0   \n",
              "5136    5281   26  Bangkok      6      10000.0   6925.23718          0.0   \n",
              "5160    5305   26  Bangkok      6       9000.0      0.00000          0.0   \n",
              "5189    5334   25  Bangkok      5       5000.0  24379.32505          0.0   \n",
              "\n",
              "      Ndefault     Balance  Balance_Freq  N_purchases  LastPurchase  \\\n",
              "118          0    70.66111      0.181818            2        1331.6   \n",
              "126          0    10.19189      0.090909            1         870.2   \n",
              "146          0   118.90862      0.090909            1        1650.0   \n",
              "254          0   694.05545      0.090909            0           0.0   \n",
              "302          0  6751.17139      0.181818            0           0.0   \n",
              "...        ...         ...           ...          ...           ...   \n",
              "5016         0    35.74463      0.818182           12        5760.0   \n",
              "5034         0   107.03306      0.090909            0           0.0   \n",
              "5136         0     0.00000      0.000000            7        5810.0   \n",
              "5160         0  9142.22213      1.000000           40        5633.9   \n",
              "5189         0     0.00000      0.000000            0           0.0   \n",
              "\n",
              "      MaxPurchase  Inst_purchase       Advance  Count_Advance_Tx  \\\n",
              "118           0.0         1331.6      0.000000          0.166667   \n",
              "126           0.0          870.2      0.000000          0.083333   \n",
              "146        1650.0            0.0      0.000000          0.083333   \n",
              "254           0.0            0.0  16798.289600          0.000000   \n",
              "302           0.0            0.0  39142.681170          0.000000   \n",
              "...           ...            ...           ...               ...   \n",
              "5016          0.0         5760.0      0.000000          1.000000   \n",
              "5034          0.0            0.0   3451.163868          0.000000   \n",
              "5136          0.0         5810.0      0.000000          0.583333   \n",
              "5160       4001.4         1632.5    819.021060          0.916667   \n",
              "5189          0.0            0.0   1523.323398          0.000000   \n",
              "\n",
              "      Purchase_Freq  Installment_Freq  Advance_Freq  Pct_full_payment  \n",
              "118        0.083333          0.000000             0               0.0  \n",
              "126        0.083333          0.000000             0               0.0  \n",
              "146        0.000000          0.000000             0               0.0  \n",
              "254        0.000000          0.083333             3               0.0  \n",
              "302        0.000000          0.083333             1               0.0  \n",
              "...             ...               ...           ...               ...  \n",
              "5016       1.000000          0.000000             0               0.0  \n",
              "5034       0.000000          0.083333             1               0.0  \n",
              "5136       0.583333          0.000000             0               0.0  \n",
              "5160       0.916667          0.333333             5               0.0  \n",
              "5189       0.000000          0.111111             1               0.0  \n",
              "\n",
              "[162 rows x 20 columns]"
            ],
            "text/html": [
              "\n",
              "  <div id=\"df-9a304f31-4d75-4603-a5b3-236b9457892b\">\n",
              "    <div class=\"colab-df-container\">\n",
              "      <div>\n",
              "<style scoped>\n",
              "    .dataframe tbody tr th:only-of-type {\n",
              "        vertical-align: middle;\n",
              "    }\n",
              "\n",
              "    .dataframe tbody tr th {\n",
              "        vertical-align: top;\n",
              "    }\n",
              "\n",
              "    .dataframe thead th {\n",
              "        text-align: right;\n",
              "    }\n",
              "</style>\n",
              "<table border=\"1\" class=\"dataframe\">\n",
              "  <thead>\n",
              "    <tr style=\"text-align: right;\">\n",
              "      <th></th>\n",
              "      <th>CustID</th>\n",
              "      <th>Age</th>\n",
              "      <th>Province</th>\n",
              "      <th>Years</th>\n",
              "      <th>CreditLimit</th>\n",
              "      <th>Payment</th>\n",
              "      <th>Min_payment</th>\n",
              "      <th>Ndefault</th>\n",
              "      <th>Balance</th>\n",
              "      <th>Balance_Freq</th>\n",
              "      <th>N_purchases</th>\n",
              "      <th>LastPurchase</th>\n",
              "      <th>MaxPurchase</th>\n",
              "      <th>Inst_purchase</th>\n",
              "      <th>Advance</th>\n",
              "      <th>Count_Advance_Tx</th>\n",
              "      <th>Purchase_Freq</th>\n",
              "      <th>Installment_Freq</th>\n",
              "      <th>Advance_Freq</th>\n",
              "      <th>Pct_full_payment</th>\n",
              "    </tr>\n",
              "  </thead>\n",
              "  <tbody>\n",
              "    <tr>\n",
              "      <th>118</th>\n",
              "      <td>123</td>\n",
              "      <td>27</td>\n",
              "      <td>Bangkok</td>\n",
              "      <td>7</td>\n",
              "      <td>160000.0</td>\n",
              "      <td>0.00000</td>\n",
              "      <td>0.0</td>\n",
              "      <td>0</td>\n",
              "      <td>70.66111</td>\n",
              "      <td>0.181818</td>\n",
              "      <td>2</td>\n",
              "      <td>1331.6</td>\n",
              "      <td>0.0</td>\n",
              "      <td>1331.6</td>\n",
              "      <td>0.000000</td>\n",
              "      <td>0.166667</td>\n",
              "      <td>0.083333</td>\n",
              "      <td>0.000000</td>\n",
              "      <td>0</td>\n",
              "      <td>0.0</td>\n",
              "    </tr>\n",
              "    <tr>\n",
              "      <th>126</th>\n",
              "      <td>132</td>\n",
              "      <td>39</td>\n",
              "      <td>Bangkok</td>\n",
              "      <td>6</td>\n",
              "      <td>155000.0</td>\n",
              "      <td>0.00000</td>\n",
              "      <td>0.0</td>\n",
              "      <td>0</td>\n",
              "      <td>10.19189</td>\n",
              "      <td>0.090909</td>\n",
              "      <td>1</td>\n",
              "      <td>870.2</td>\n",
              "      <td>0.0</td>\n",
              "      <td>870.2</td>\n",
              "      <td>0.000000</td>\n",
              "      <td>0.083333</td>\n",
              "      <td>0.083333</td>\n",
              "      <td>0.000000</td>\n",
              "      <td>0</td>\n",
              "      <td>0.0</td>\n",
              "    </tr>\n",
              "    <tr>\n",
              "      <th>146</th>\n",
              "      <td>152</td>\n",
              "      <td>35</td>\n",
              "      <td>Bangkok</td>\n",
              "      <td>6</td>\n",
              "      <td>150000.0</td>\n",
              "      <td>0.00000</td>\n",
              "      <td>0.0</td>\n",
              "      <td>0</td>\n",
              "      <td>118.90862</td>\n",
              "      <td>0.090909</td>\n",
              "      <td>1</td>\n",
              "      <td>1650.0</td>\n",
              "      <td>1650.0</td>\n",
              "      <td>0.0</td>\n",
              "      <td>0.000000</td>\n",
              "      <td>0.083333</td>\n",
              "      <td>0.000000</td>\n",
              "      <td>0.000000</td>\n",
              "      <td>0</td>\n",
              "      <td>0.0</td>\n",
              "    </tr>\n",
              "    <tr>\n",
              "      <th>254</th>\n",
              "      <td>263</td>\n",
              "      <td>41</td>\n",
              "      <td>Bangkok</td>\n",
              "      <td>6</td>\n",
              "      <td>130000.0</td>\n",
              "      <td>0.00000</td>\n",
              "      <td>0.0</td>\n",
              "      <td>0</td>\n",
              "      <td>694.05545</td>\n",
              "      <td>0.090909</td>\n",
              "      <td>0</td>\n",
              "      <td>0.0</td>\n",
              "      <td>0.0</td>\n",
              "      <td>0.0</td>\n",
              "      <td>16798.289600</td>\n",
              "      <td>0.000000</td>\n",
              "      <td>0.000000</td>\n",
              "      <td>0.083333</td>\n",
              "      <td>3</td>\n",
              "      <td>0.0</td>\n",
              "    </tr>\n",
              "    <tr>\n",
              "      <th>302</th>\n",
              "      <td>313</td>\n",
              "      <td>21</td>\n",
              "      <td>Bangkok</td>\n",
              "      <td>6</td>\n",
              "      <td>125000.0</td>\n",
              "      <td>0.00000</td>\n",
              "      <td>0.0</td>\n",
              "      <td>0</td>\n",
              "      <td>6751.17139</td>\n",
              "      <td>0.181818</td>\n",
              "      <td>0</td>\n",
              "      <td>0.0</td>\n",
              "      <td>0.0</td>\n",
              "      <td>0.0</td>\n",
              "      <td>39142.681170</td>\n",
              "      <td>0.000000</td>\n",
              "      <td>0.000000</td>\n",
              "      <td>0.083333</td>\n",
              "      <td>1</td>\n",
              "      <td>0.0</td>\n",
              "    </tr>\n",
              "    <tr>\n",
              "      <th>...</th>\n",
              "      <td>...</td>\n",
              "      <td>...</td>\n",
              "      <td>...</td>\n",
              "      <td>...</td>\n",
              "      <td>...</td>\n",
              "      <td>...</td>\n",
              "      <td>...</td>\n",
              "      <td>...</td>\n",
              "      <td>...</td>\n",
              "      <td>...</td>\n",
              "      <td>...</td>\n",
              "      <td>...</td>\n",
              "      <td>...</td>\n",
              "      <td>...</td>\n",
              "      <td>...</td>\n",
              "      <td>...</td>\n",
              "      <td>...</td>\n",
              "      <td>...</td>\n",
              "      <td>...</td>\n",
              "      <td>...</td>\n",
              "    </tr>\n",
              "    <tr>\n",
              "      <th>5016</th>\n",
              "      <td>5157</td>\n",
              "      <td>24</td>\n",
              "      <td>Bangkok</td>\n",
              "      <td>6</td>\n",
              "      <td>10000.0</td>\n",
              "      <td>4987.88091</td>\n",
              "      <td>0.0</td>\n",
              "      <td>0</td>\n",
              "      <td>35.74463</td>\n",
              "      <td>0.818182</td>\n",
              "      <td>12</td>\n",
              "      <td>5760.0</td>\n",
              "      <td>0.0</td>\n",
              "      <td>5760.0</td>\n",
              "      <td>0.000000</td>\n",
              "      <td>1.000000</td>\n",
              "      <td>1.000000</td>\n",
              "      <td>0.000000</td>\n",
              "      <td>0</td>\n",
              "      <td>0.0</td>\n",
              "    </tr>\n",
              "    <tr>\n",
              "      <th>5034</th>\n",
              "      <td>5175</td>\n",
              "      <td>25</td>\n",
              "      <td>Bangkok</td>\n",
              "      <td>6</td>\n",
              "      <td>10000.0</td>\n",
              "      <td>0.00000</td>\n",
              "      <td>0.0</td>\n",
              "      <td>0</td>\n",
              "      <td>107.03306</td>\n",
              "      <td>0.090909</td>\n",
              "      <td>0</td>\n",
              "      <td>0.0</td>\n",
              "      <td>0.0</td>\n",
              "      <td>0.0</td>\n",
              "      <td>3451.163868</td>\n",
              "      <td>0.000000</td>\n",
              "      <td>0.000000</td>\n",
              "      <td>0.083333</td>\n",
              "      <td>1</td>\n",
              "      <td>0.0</td>\n",
              "    </tr>\n",
              "    <tr>\n",
              "      <th>5136</th>\n",
              "      <td>5281</td>\n",
              "      <td>26</td>\n",
              "      <td>Bangkok</td>\n",
              "      <td>6</td>\n",
              "      <td>10000.0</td>\n",
              "      <td>6925.23718</td>\n",
              "      <td>0.0</td>\n",
              "      <td>0</td>\n",
              "      <td>0.00000</td>\n",
              "      <td>0.000000</td>\n",
              "      <td>7</td>\n",
              "      <td>5810.0</td>\n",
              "      <td>0.0</td>\n",
              "      <td>5810.0</td>\n",
              "      <td>0.000000</td>\n",
              "      <td>0.583333</td>\n",
              "      <td>0.583333</td>\n",
              "      <td>0.000000</td>\n",
              "      <td>0</td>\n",
              "      <td>0.0</td>\n",
              "    </tr>\n",
              "    <tr>\n",
              "      <th>5160</th>\n",
              "      <td>5305</td>\n",
              "      <td>26</td>\n",
              "      <td>Bangkok</td>\n",
              "      <td>6</td>\n",
              "      <td>9000.0</td>\n",
              "      <td>0.00000</td>\n",
              "      <td>0.0</td>\n",
              "      <td>0</td>\n",
              "      <td>9142.22213</td>\n",
              "      <td>1.000000</td>\n",
              "      <td>40</td>\n",
              "      <td>5633.9</td>\n",
              "      <td>4001.4</td>\n",
              "      <td>1632.5</td>\n",
              "      <td>819.021060</td>\n",
              "      <td>0.916667</td>\n",
              "      <td>0.916667</td>\n",
              "      <td>0.333333</td>\n",
              "      <td>5</td>\n",
              "      <td>0.0</td>\n",
              "    </tr>\n",
              "    <tr>\n",
              "      <th>5189</th>\n",
              "      <td>5334</td>\n",
              "      <td>25</td>\n",
              "      <td>Bangkok</td>\n",
              "      <td>5</td>\n",
              "      <td>5000.0</td>\n",
              "      <td>24379.32505</td>\n",
              "      <td>0.0</td>\n",
              "      <td>0</td>\n",
              "      <td>0.00000</td>\n",
              "      <td>0.000000</td>\n",
              "      <td>0</td>\n",
              "      <td>0.0</td>\n",
              "      <td>0.0</td>\n",
              "      <td>0.0</td>\n",
              "      <td>1523.323398</td>\n",
              "      <td>0.000000</td>\n",
              "      <td>0.000000</td>\n",
              "      <td>0.111111</td>\n",
              "      <td>1</td>\n",
              "      <td>0.0</td>\n",
              "    </tr>\n",
              "  </tbody>\n",
              "</table>\n",
              "<p>162 rows × 20 columns</p>\n",
              "</div>\n",
              "      <button class=\"colab-df-convert\" onclick=\"convertToInteractive('df-9a304f31-4d75-4603-a5b3-236b9457892b')\"\n",
              "              title=\"Convert this dataframe to an interactive table.\"\n",
              "              style=\"display:none;\">\n",
              "        \n",
              "  <svg xmlns=\"http://www.w3.org/2000/svg\" height=\"24px\"viewBox=\"0 0 24 24\"\n",
              "       width=\"24px\">\n",
              "    <path d=\"M0 0h24v24H0V0z\" fill=\"none\"/>\n",
              "    <path d=\"M18.56 5.44l.94 2.06.94-2.06 2.06-.94-2.06-.94-.94-2.06-.94 2.06-2.06.94zm-11 1L8.5 8.5l.94-2.06 2.06-.94-2.06-.94L8.5 2.5l-.94 2.06-2.06.94zm10 10l.94 2.06.94-2.06 2.06-.94-2.06-.94-.94-2.06-.94 2.06-2.06.94z\"/><path d=\"M17.41 7.96l-1.37-1.37c-.4-.4-.92-.59-1.43-.59-.52 0-1.04.2-1.43.59L10.3 9.45l-7.72 7.72c-.78.78-.78 2.05 0 2.83L4 21.41c.39.39.9.59 1.41.59.51 0 1.02-.2 1.41-.59l7.78-7.78 2.81-2.81c.8-.78.8-2.07 0-2.86zM5.41 20L4 18.59l7.72-7.72 1.47 1.35L5.41 20z\"/>\n",
              "  </svg>\n",
              "      </button>\n",
              "      \n",
              "  <style>\n",
              "    .colab-df-container {\n",
              "      display:flex;\n",
              "      flex-wrap:wrap;\n",
              "      gap: 12px;\n",
              "    }\n",
              "\n",
              "    .colab-df-convert {\n",
              "      background-color: #E8F0FE;\n",
              "      border: none;\n",
              "      border-radius: 50%;\n",
              "      cursor: pointer;\n",
              "      display: none;\n",
              "      fill: #1967D2;\n",
              "      height: 32px;\n",
              "      padding: 0 0 0 0;\n",
              "      width: 32px;\n",
              "    }\n",
              "\n",
              "    .colab-df-convert:hover {\n",
              "      background-color: #E2EBFA;\n",
              "      box-shadow: 0px 1px 2px rgba(60, 64, 67, 0.3), 0px 1px 3px 1px rgba(60, 64, 67, 0.15);\n",
              "      fill: #174EA6;\n",
              "    }\n",
              "\n",
              "    [theme=dark] .colab-df-convert {\n",
              "      background-color: #3B4455;\n",
              "      fill: #D2E3FC;\n",
              "    }\n",
              "\n",
              "    [theme=dark] .colab-df-convert:hover {\n",
              "      background-color: #434B5C;\n",
              "      box-shadow: 0px 1px 3px 1px rgba(0, 0, 0, 0.15);\n",
              "      filter: drop-shadow(0px 1px 2px rgba(0, 0, 0, 0.3));\n",
              "      fill: #FFFFFF;\n",
              "    }\n",
              "  </style>\n",
              "\n",
              "      <script>\n",
              "        const buttonEl =\n",
              "          document.querySelector('#df-9a304f31-4d75-4603-a5b3-236b9457892b button.colab-df-convert');\n",
              "        buttonEl.style.display =\n",
              "          google.colab.kernel.accessAllowed ? 'block' : 'none';\n",
              "\n",
              "        async function convertToInteractive(key) {\n",
              "          const element = document.querySelector('#df-9a304f31-4d75-4603-a5b3-236b9457892b');\n",
              "          const dataTable =\n",
              "            await google.colab.kernel.invokeFunction('convertToInteractive',\n",
              "                                                     [key], {});\n",
              "          if (!dataTable) return;\n",
              "\n",
              "          const docLinkHtml = 'Like what you see? Visit the ' +\n",
              "            '<a target=\"_blank\" href=https://colab.research.google.com/notebooks/data_table.ipynb>data table notebook</a>'\n",
              "            + ' to learn more about interactive tables.';\n",
              "          element.innerHTML = '';\n",
              "          dataTable['output_type'] = 'display_data';\n",
              "          await google.colab.output.renderOutput(dataTable, element);\n",
              "          const docLink = document.createElement('div');\n",
              "          docLink.innerHTML = docLinkHtml;\n",
              "          element.appendChild(docLink);\n",
              "        }\n",
              "      </script>\n",
              "    </div>\n",
              "  </div>\n",
              "  "
            ]
          },
          "metadata": {},
          "execution_count": 91
        }
      ]
    },
    {
      "cell_type": "code",
      "metadata": {
        "id": "aS8t0KDPmWse",
        "outputId": "a9153017-6e93-42ec-ee90-9a30698c8dab",
        "colab": {
          "base_uri": "https://localhost:8080/"
        }
      },
      "source": [
        "index_Minpayment_Payment = df[(df['Min_payment'] == 0) & (df['Payment'] != 0)].index\n",
        "index_Minpayment_Payment"
      ],
      "execution_count": 92,
      "outputs": [
        {
          "output_type": "execute_result",
          "data": {
            "text/plain": [
              "Int64Index([ 500,  600,  625,  898, 1340, 1774, 1852, 2872, 2968, 2978, 3032,\n",
              "            3154, 3545, 3672, 3707, 3750, 3778, 3787, 3804, 4088, 4429, 4606,\n",
              "            4662, 4837, 4991, 5016, 5136, 5189],\n",
              "           dtype='int64')"
            ]
          },
          "metadata": {},
          "execution_count": 92
        }
      ]
    },
    {
      "cell_type": "code",
      "metadata": {
        "id": "jyLZ3ab3mWsf",
        "outputId": "3cb3807d-9eed-4705-e577-c90829ac662a",
        "colab": {
          "base_uri": "https://localhost:8080/"
        }
      },
      "source": [
        "df.drop(index_Minpayment_Payment, inplace = True)\n",
        "df.count()"
      ],
      "execution_count": 93,
      "outputs": [
        {
          "output_type": "execute_result",
          "data": {
            "text/plain": [
              "CustID              4926\n",
              "Age                 4926\n",
              "Province            4926\n",
              "Years               4926\n",
              "CreditLimit         4926\n",
              "Payment             4926\n",
              "Min_payment         4926\n",
              "Ndefault            4926\n",
              "Balance             4926\n",
              "Balance_Freq        4926\n",
              "N_purchases         4926\n",
              "LastPurchase        4926\n",
              "MaxPurchase         4926\n",
              "Inst_purchase       4926\n",
              "Advance             4926\n",
              "Count_Advance_Tx    4926\n",
              "Purchase_Freq       4926\n",
              "Installment_Freq    4926\n",
              "Advance_Freq        4926\n",
              "Pct_full_payment    4926\n",
              "dtype: int64"
            ]
          },
          "metadata": {},
          "execution_count": 93
        }
      ]
    },
    {
      "cell_type": "code",
      "metadata": {
        "id": "0t5q-_rImWsg",
        "outputId": "8d880f33-9123-41ad-fa76-0030493cd011",
        "colab": {
          "base_uri": "https://localhost:8080/",
          "height": 427
        }
      },
      "source": [
        "df = df.round({'CreditLimit': 0, 'Payment': 2, 'Min_payment': 2, 'Balance': 2, 'LastPurchase': 2, 'MaxPurchase': 2, 'Advance': 0})\n",
        "df.head(10)"
      ],
      "execution_count": 94,
      "outputs": [
        {
          "output_type": "execute_result",
          "data": {
            "text/plain": [
              "   CustID  Age          Province  Years  CreditLimit    Payment  Min_payment  \\\n",
              "0       1   33           Bangkok      5     300000.0   57728.13      4721.04   \n",
              "1       2   80           Bangkok      7     280000.0  265570.97      5860.29   \n",
              "2       3   43           Bangkok      7     250000.0   13891.68      2628.27   \n",
              "3       4   25            Phuket      6     230000.0   12120.54       687.25   \n",
              "4       5   22           Bangkok      6     225000.0  469305.98     29740.69   \n",
              "5       6   24  Nakornratchasima      7     220000.0   42461.68     42270.82   \n",
              "6       7   59            Rayong      7     215000.0   32196.21     30681.26   \n",
              "7       8   45           Bangkok      6     215000.0   81301.12      2247.63   \n",
              "8       9   78         Chaingmai      7     210000.0  197140.97     14793.09   \n",
              "9      10   36            Rayong      6     210000.0   56699.28     24202.25   \n",
              "\n",
              "   Ndefault    Balance  Balance_Freq  N_purchases  LastPurchase  MaxPurchase  \\\n",
              "0         1   14092.56      0.900000           24       45696.5      17489.4   \n",
              "1         0   31083.94      0.900000           55      265823.4     151589.0   \n",
              "2         0    1775.93      1.000000           25       14715.5      14715.5   \n",
              "3         1     431.04      0.454545            2        3700.0       3700.0   \n",
              "4         0  115475.20      1.000000          101      490395.7     407612.5   \n",
              "5         0  184955.59      1.000000           76       52882.8      36573.0   \n",
              "6         0  105984.68      1.000000           13       20844.8      13004.8   \n",
              "7         0    5887.95      0.636364           12       41160.0          0.0   \n",
              "8         1   41940.34      0.727273           26       20068.7       4206.0   \n",
              "9         0   96303.68      1.000000           29       52452.8      29312.0   \n",
              "\n",
              "   Inst_purchase  Advance  Count_Advance_Tx  Purchase_Freq  Installment_Freq  \\\n",
              "0        28207.1  23301.0          0.700000       0.600000          0.400000   \n",
              "1       114234.4      0.0          0.900000       0.800000          0.000000   \n",
              "2            0.0      0.0          1.000000       0.000000          0.000000   \n",
              "3            0.0      0.0          0.166667       0.000000          0.000000   \n",
              "4        82783.2   3349.0          1.000000       0.916667          0.083333   \n",
              "5        16309.8      0.0          1.000000       1.000000          0.000000   \n",
              "6         7840.0      0.0          0.666667       0.583333          0.000000   \n",
              "7        41160.0      0.0          0.500000       0.500000          0.000000   \n",
              "8        15862.7      0.0          0.666667       0.666667          0.000000   \n",
              "9        23140.8      0.0          0.500000       0.333333          0.000000   \n",
              "\n",
              "   Advance_Freq  Pct_full_payment  \n",
              "0             5          0.000000  \n",
              "1             0          0.875000  \n",
              "2             0          0.916667  \n",
              "3             0          0.000000  \n",
              "4             1          0.250000  \n",
              "5             0          0.000000  \n",
              "6             0          0.000000  \n",
              "7             0          1.000000  \n",
              "8             0          0.100000  \n",
              "9             0          0.000000  "
            ],
            "text/html": [
              "\n",
              "  <div id=\"df-2c32b56a-f5ff-4d47-b6eb-043290964d84\">\n",
              "    <div class=\"colab-df-container\">\n",
              "      <div>\n",
              "<style scoped>\n",
              "    .dataframe tbody tr th:only-of-type {\n",
              "        vertical-align: middle;\n",
              "    }\n",
              "\n",
              "    .dataframe tbody tr th {\n",
              "        vertical-align: top;\n",
              "    }\n",
              "\n",
              "    .dataframe thead th {\n",
              "        text-align: right;\n",
              "    }\n",
              "</style>\n",
              "<table border=\"1\" class=\"dataframe\">\n",
              "  <thead>\n",
              "    <tr style=\"text-align: right;\">\n",
              "      <th></th>\n",
              "      <th>CustID</th>\n",
              "      <th>Age</th>\n",
              "      <th>Province</th>\n",
              "      <th>Years</th>\n",
              "      <th>CreditLimit</th>\n",
              "      <th>Payment</th>\n",
              "      <th>Min_payment</th>\n",
              "      <th>Ndefault</th>\n",
              "      <th>Balance</th>\n",
              "      <th>Balance_Freq</th>\n",
              "      <th>N_purchases</th>\n",
              "      <th>LastPurchase</th>\n",
              "      <th>MaxPurchase</th>\n",
              "      <th>Inst_purchase</th>\n",
              "      <th>Advance</th>\n",
              "      <th>Count_Advance_Tx</th>\n",
              "      <th>Purchase_Freq</th>\n",
              "      <th>Installment_Freq</th>\n",
              "      <th>Advance_Freq</th>\n",
              "      <th>Pct_full_payment</th>\n",
              "    </tr>\n",
              "  </thead>\n",
              "  <tbody>\n",
              "    <tr>\n",
              "      <th>0</th>\n",
              "      <td>1</td>\n",
              "      <td>33</td>\n",
              "      <td>Bangkok</td>\n",
              "      <td>5</td>\n",
              "      <td>300000.0</td>\n",
              "      <td>57728.13</td>\n",
              "      <td>4721.04</td>\n",
              "      <td>1</td>\n",
              "      <td>14092.56</td>\n",
              "      <td>0.900000</td>\n",
              "      <td>24</td>\n",
              "      <td>45696.5</td>\n",
              "      <td>17489.4</td>\n",
              "      <td>28207.1</td>\n",
              "      <td>23301.0</td>\n",
              "      <td>0.700000</td>\n",
              "      <td>0.600000</td>\n",
              "      <td>0.400000</td>\n",
              "      <td>5</td>\n",
              "      <td>0.000000</td>\n",
              "    </tr>\n",
              "    <tr>\n",
              "      <th>1</th>\n",
              "      <td>2</td>\n",
              "      <td>80</td>\n",
              "      <td>Bangkok</td>\n",
              "      <td>7</td>\n",
              "      <td>280000.0</td>\n",
              "      <td>265570.97</td>\n",
              "      <td>5860.29</td>\n",
              "      <td>0</td>\n",
              "      <td>31083.94</td>\n",
              "      <td>0.900000</td>\n",
              "      <td>55</td>\n",
              "      <td>265823.4</td>\n",
              "      <td>151589.0</td>\n",
              "      <td>114234.4</td>\n",
              "      <td>0.0</td>\n",
              "      <td>0.900000</td>\n",
              "      <td>0.800000</td>\n",
              "      <td>0.000000</td>\n",
              "      <td>0</td>\n",
              "      <td>0.875000</td>\n",
              "    </tr>\n",
              "    <tr>\n",
              "      <th>2</th>\n",
              "      <td>3</td>\n",
              "      <td>43</td>\n",
              "      <td>Bangkok</td>\n",
              "      <td>7</td>\n",
              "      <td>250000.0</td>\n",
              "      <td>13891.68</td>\n",
              "      <td>2628.27</td>\n",
              "      <td>0</td>\n",
              "      <td>1775.93</td>\n",
              "      <td>1.000000</td>\n",
              "      <td>25</td>\n",
              "      <td>14715.5</td>\n",
              "      <td>14715.5</td>\n",
              "      <td>0.0</td>\n",
              "      <td>0.0</td>\n",
              "      <td>1.000000</td>\n",
              "      <td>0.000000</td>\n",
              "      <td>0.000000</td>\n",
              "      <td>0</td>\n",
              "      <td>0.916667</td>\n",
              "    </tr>\n",
              "    <tr>\n",
              "      <th>3</th>\n",
              "      <td>4</td>\n",
              "      <td>25</td>\n",
              "      <td>Phuket</td>\n",
              "      <td>6</td>\n",
              "      <td>230000.0</td>\n",
              "      <td>12120.54</td>\n",
              "      <td>687.25</td>\n",
              "      <td>1</td>\n",
              "      <td>431.04</td>\n",
              "      <td>0.454545</td>\n",
              "      <td>2</td>\n",
              "      <td>3700.0</td>\n",
              "      <td>3700.0</td>\n",
              "      <td>0.0</td>\n",
              "      <td>0.0</td>\n",
              "      <td>0.166667</td>\n",
              "      <td>0.000000</td>\n",
              "      <td>0.000000</td>\n",
              "      <td>0</td>\n",
              "      <td>0.000000</td>\n",
              "    </tr>\n",
              "    <tr>\n",
              "      <th>4</th>\n",
              "      <td>5</td>\n",
              "      <td>22</td>\n",
              "      <td>Bangkok</td>\n",
              "      <td>6</td>\n",
              "      <td>225000.0</td>\n",
              "      <td>469305.98</td>\n",
              "      <td>29740.69</td>\n",
              "      <td>0</td>\n",
              "      <td>115475.20</td>\n",
              "      <td>1.000000</td>\n",
              "      <td>101</td>\n",
              "      <td>490395.7</td>\n",
              "      <td>407612.5</td>\n",
              "      <td>82783.2</td>\n",
              "      <td>3349.0</td>\n",
              "      <td>1.000000</td>\n",
              "      <td>0.916667</td>\n",
              "      <td>0.083333</td>\n",
              "      <td>1</td>\n",
              "      <td>0.250000</td>\n",
              "    </tr>\n",
              "    <tr>\n",
              "      <th>5</th>\n",
              "      <td>6</td>\n",
              "      <td>24</td>\n",
              "      <td>Nakornratchasima</td>\n",
              "      <td>7</td>\n",
              "      <td>220000.0</td>\n",
              "      <td>42461.68</td>\n",
              "      <td>42270.82</td>\n",
              "      <td>0</td>\n",
              "      <td>184955.59</td>\n",
              "      <td>1.000000</td>\n",
              "      <td>76</td>\n",
              "      <td>52882.8</td>\n",
              "      <td>36573.0</td>\n",
              "      <td>16309.8</td>\n",
              "      <td>0.0</td>\n",
              "      <td>1.000000</td>\n",
              "      <td>1.000000</td>\n",
              "      <td>0.000000</td>\n",
              "      <td>0</td>\n",
              "      <td>0.000000</td>\n",
              "    </tr>\n",
              "    <tr>\n",
              "      <th>6</th>\n",
              "      <td>7</td>\n",
              "      <td>59</td>\n",
              "      <td>Rayong</td>\n",
              "      <td>7</td>\n",
              "      <td>215000.0</td>\n",
              "      <td>32196.21</td>\n",
              "      <td>30681.26</td>\n",
              "      <td>0</td>\n",
              "      <td>105984.68</td>\n",
              "      <td>1.000000</td>\n",
              "      <td>13</td>\n",
              "      <td>20844.8</td>\n",
              "      <td>13004.8</td>\n",
              "      <td>7840.0</td>\n",
              "      <td>0.0</td>\n",
              "      <td>0.666667</td>\n",
              "      <td>0.583333</td>\n",
              "      <td>0.000000</td>\n",
              "      <td>0</td>\n",
              "      <td>0.000000</td>\n",
              "    </tr>\n",
              "    <tr>\n",
              "      <th>7</th>\n",
              "      <td>8</td>\n",
              "      <td>45</td>\n",
              "      <td>Bangkok</td>\n",
              "      <td>6</td>\n",
              "      <td>215000.0</td>\n",
              "      <td>81301.12</td>\n",
              "      <td>2247.63</td>\n",
              "      <td>0</td>\n",
              "      <td>5887.95</td>\n",
              "      <td>0.636364</td>\n",
              "      <td>12</td>\n",
              "      <td>41160.0</td>\n",
              "      <td>0.0</td>\n",
              "      <td>41160.0</td>\n",
              "      <td>0.0</td>\n",
              "      <td>0.500000</td>\n",
              "      <td>0.500000</td>\n",
              "      <td>0.000000</td>\n",
              "      <td>0</td>\n",
              "      <td>1.000000</td>\n",
              "    </tr>\n",
              "    <tr>\n",
              "      <th>8</th>\n",
              "      <td>9</td>\n",
              "      <td>78</td>\n",
              "      <td>Chaingmai</td>\n",
              "      <td>7</td>\n",
              "      <td>210000.0</td>\n",
              "      <td>197140.97</td>\n",
              "      <td>14793.09</td>\n",
              "      <td>1</td>\n",
              "      <td>41940.34</td>\n",
              "      <td>0.727273</td>\n",
              "      <td>26</td>\n",
              "      <td>20068.7</td>\n",
              "      <td>4206.0</td>\n",
              "      <td>15862.7</td>\n",
              "      <td>0.0</td>\n",
              "      <td>0.666667</td>\n",
              "      <td>0.666667</td>\n",
              "      <td>0.000000</td>\n",
              "      <td>0</td>\n",
              "      <td>0.100000</td>\n",
              "    </tr>\n",
              "    <tr>\n",
              "      <th>9</th>\n",
              "      <td>10</td>\n",
              "      <td>36</td>\n",
              "      <td>Rayong</td>\n",
              "      <td>6</td>\n",
              "      <td>210000.0</td>\n",
              "      <td>56699.28</td>\n",
              "      <td>24202.25</td>\n",
              "      <td>0</td>\n",
              "      <td>96303.68</td>\n",
              "      <td>1.000000</td>\n",
              "      <td>29</td>\n",
              "      <td>52452.8</td>\n",
              "      <td>29312.0</td>\n",
              "      <td>23140.8</td>\n",
              "      <td>0.0</td>\n",
              "      <td>0.500000</td>\n",
              "      <td>0.333333</td>\n",
              "      <td>0.000000</td>\n",
              "      <td>0</td>\n",
              "      <td>0.000000</td>\n",
              "    </tr>\n",
              "  </tbody>\n",
              "</table>\n",
              "</div>\n",
              "      <button class=\"colab-df-convert\" onclick=\"convertToInteractive('df-2c32b56a-f5ff-4d47-b6eb-043290964d84')\"\n",
              "              title=\"Convert this dataframe to an interactive table.\"\n",
              "              style=\"display:none;\">\n",
              "        \n",
              "  <svg xmlns=\"http://www.w3.org/2000/svg\" height=\"24px\"viewBox=\"0 0 24 24\"\n",
              "       width=\"24px\">\n",
              "    <path d=\"M0 0h24v24H0V0z\" fill=\"none\"/>\n",
              "    <path d=\"M18.56 5.44l.94 2.06.94-2.06 2.06-.94-2.06-.94-.94-2.06-.94 2.06-2.06.94zm-11 1L8.5 8.5l.94-2.06 2.06-.94-2.06-.94L8.5 2.5l-.94 2.06-2.06.94zm10 10l.94 2.06.94-2.06 2.06-.94-2.06-.94-.94-2.06-.94 2.06-2.06.94z\"/><path d=\"M17.41 7.96l-1.37-1.37c-.4-.4-.92-.59-1.43-.59-.52 0-1.04.2-1.43.59L10.3 9.45l-7.72 7.72c-.78.78-.78 2.05 0 2.83L4 21.41c.39.39.9.59 1.41.59.51 0 1.02-.2 1.41-.59l7.78-7.78 2.81-2.81c.8-.78.8-2.07 0-2.86zM5.41 20L4 18.59l7.72-7.72 1.47 1.35L5.41 20z\"/>\n",
              "  </svg>\n",
              "      </button>\n",
              "      \n",
              "  <style>\n",
              "    .colab-df-container {\n",
              "      display:flex;\n",
              "      flex-wrap:wrap;\n",
              "      gap: 12px;\n",
              "    }\n",
              "\n",
              "    .colab-df-convert {\n",
              "      background-color: #E8F0FE;\n",
              "      border: none;\n",
              "      border-radius: 50%;\n",
              "      cursor: pointer;\n",
              "      display: none;\n",
              "      fill: #1967D2;\n",
              "      height: 32px;\n",
              "      padding: 0 0 0 0;\n",
              "      width: 32px;\n",
              "    }\n",
              "\n",
              "    .colab-df-convert:hover {\n",
              "      background-color: #E2EBFA;\n",
              "      box-shadow: 0px 1px 2px rgba(60, 64, 67, 0.3), 0px 1px 3px 1px rgba(60, 64, 67, 0.15);\n",
              "      fill: #174EA6;\n",
              "    }\n",
              "\n",
              "    [theme=dark] .colab-df-convert {\n",
              "      background-color: #3B4455;\n",
              "      fill: #D2E3FC;\n",
              "    }\n",
              "\n",
              "    [theme=dark] .colab-df-convert:hover {\n",
              "      background-color: #434B5C;\n",
              "      box-shadow: 0px 1px 3px 1px rgba(0, 0, 0, 0.15);\n",
              "      filter: drop-shadow(0px 1px 2px rgba(0, 0, 0, 0.3));\n",
              "      fill: #FFFFFF;\n",
              "    }\n",
              "  </style>\n",
              "\n",
              "      <script>\n",
              "        const buttonEl =\n",
              "          document.querySelector('#df-2c32b56a-f5ff-4d47-b6eb-043290964d84 button.colab-df-convert');\n",
              "        buttonEl.style.display =\n",
              "          google.colab.kernel.accessAllowed ? 'block' : 'none';\n",
              "\n",
              "        async function convertToInteractive(key) {\n",
              "          const element = document.querySelector('#df-2c32b56a-f5ff-4d47-b6eb-043290964d84');\n",
              "          const dataTable =\n",
              "            await google.colab.kernel.invokeFunction('convertToInteractive',\n",
              "                                                     [key], {});\n",
              "          if (!dataTable) return;\n",
              "\n",
              "          const docLinkHtml = 'Like what you see? Visit the ' +\n",
              "            '<a target=\"_blank\" href=https://colab.research.google.com/notebooks/data_table.ipynb>data table notebook</a>'\n",
              "            + ' to learn more about interactive tables.';\n",
              "          element.innerHTML = '';\n",
              "          dataTable['output_type'] = 'display_data';\n",
              "          await google.colab.output.renderOutput(dataTable, element);\n",
              "          const docLink = document.createElement('div');\n",
              "          docLink.innerHTML = docLinkHtml;\n",
              "          element.appendChild(docLink);\n",
              "        }\n",
              "      </script>\n",
              "    </div>\n",
              "  </div>\n",
              "  "
            ]
          },
          "metadata": {},
          "execution_count": 94
        }
      ]
    },
    {
      "cell_type": "code",
      "metadata": {
        "id": "Qb9FaZPQmWsg"
      },
      "source": [
        "df['AgeRange'] = pd.cut(df['Age'],[0,20,25,30,35,40,45,50,55,60,65,70,75,80],labels=['0-20','21-25','26-30','31-35','36-40','41-45','46-50','51-55','56-60','61-65','66-70','71-75','76-80'])"
      ],
      "execution_count": 95,
      "outputs": []
    },
    {
      "cell_type": "code",
      "metadata": {
        "id": "XgrC7KpEmWsh",
        "outputId": "f0adec0f-cafb-4c64-d3d3-c47ac8b34fc2",
        "colab": {
          "base_uri": "https://localhost:8080/",
          "height": 709
        }
      },
      "source": [
        "df.corr()\n",
        "df.cov()"
      ],
      "execution_count": 96,
      "outputs": [
        {
          "output_type": "execute_result",
          "data": {
            "text/plain": [
              "                        CustID            Age        Years   CreditLimit  \\\n",
              "CustID            2.363698e+06   -5655.551523  -122.965518 -5.662191e+07   \n",
              "Age              -5.655552e+03      49.199516     0.465807  1.555733e+05   \n",
              "Years            -1.229655e+02       0.465807     0.264246  3.361039e+03   \n",
              "CreditLimit      -5.662191e+07  155573.344871  3361.039471  1.560777e+09   \n",
              "Payment          -1.706067e+07  101460.671946  1874.214241  4.978405e+08   \n",
              "Min_payment      -3.542097e+06   20669.409187   624.083088  9.522985e+07   \n",
              "Ndefault         -6.929274e+01       0.188287     0.000865  1.801607e+03   \n",
              "Balance          -1.628333e+07   70192.300099   873.532456  4.402075e+08   \n",
              "Balance_Freq     -2.465706e+01       0.143575     0.013469  5.409350e+02   \n",
              "N_purchases      -1.070173e+04      44.026601     1.636751  2.888650e+05   \n",
              "LastPurchase     -1.062673e+07   47994.720094  1226.598313  3.194907e+08   \n",
              "MaxPurchase      -7.177987e+06   30106.336630   752.520611  2.153142e+08   \n",
              "Inst_purchase    -3.448527e+06   17889.499689   474.128021  1.041713e+08   \n",
              "Advance          -5.935426e+06   28503.172305  -422.008324  1.488508e+08   \n",
              "Count_Advance_Tx -9.779836e+01       0.238635     0.015209  2.479849e+03   \n",
              "Purchase_Freq    -6.019688e+01       0.197345     0.015932  1.623114e+03   \n",
              "Installment_Freq -4.456366e+01       0.261117    -0.010466  1.007685e+03   \n",
              "Advance_Freq     -1.748326e+03       9.259450    -0.146738  4.031619e+04   \n",
              "Pct_full_payment -4.404134e+01       0.056423     0.001553  1.221007e+03   \n",
              "\n",
              "                       Payment   Min_payment     Ndefault       Balance  \\\n",
              "CustID           -1.706067e+07 -3.542097e+06   -69.292742 -1.628333e+07   \n",
              "Age               1.014607e+05  2.066941e+04     0.188287  7.019230e+04   \n",
              "Years             1.874214e+03  6.240831e+02     0.000865  8.735325e+02   \n",
              "CreditLimit       4.978405e+08  9.522985e+07  1801.607338  4.402075e+08   \n",
              "Payment           1.001825e+09  8.236736e+07   892.039997  2.121907e+08   \n",
              "Min_payment       8.236736e+07  5.321604e+08   644.373727  2.258630e+08   \n",
              "Ndefault          8.920400e+02  6.443737e+02     0.076658  1.470381e+03   \n",
              "Balance           2.121907e+08  2.258630e+08  1470.380735  5.435492e+08   \n",
              "Balance_Freq      2.871186e+02  6.960794e+02     0.003887  1.592036e+03   \n",
              "N_purchases       3.509793e+05  7.213490e+04     0.588419  9.282541e+04   \n",
              "LastPurchase      4.692506e+08  4.908907e+07   459.419255  8.793201e+07   \n",
              "MaxPurchase       3.268504e+08  8.983711e+06   275.697892  5.568608e+07   \n",
              "Inst_purchase     1.424066e+08  4.010405e+07   183.753109  3.224137e+07   \n",
              "Advance           1.828197e+08  4.204432e+07   395.257534  1.516788e+08   \n",
              "Count_Advance_Tx  1.717968e+03  3.791858e+01    -0.000349 -6.617209e+02   \n",
              "Purchase_Freq     1.692687e+03  4.109802e+02    -0.000320 -2.879028e+02   \n",
              "Installment_Freq  1.136359e+03  5.658577e+02     0.006379  2.197983e+03   \n",
              "Advance_Freq      5.652963e+04  2.049070e+04     0.201443  6.479115e+04   \n",
              "Pct_full_payment  1.354875e+03 -9.964565e+02    -0.011511 -2.270154e+03   \n",
              "\n",
              "                  Balance_Freq    N_purchases  LastPurchase   MaxPurchase  \\\n",
              "CustID              -24.657065  -10701.726870 -1.062673e+07 -7.177987e+06   \n",
              "Age                   0.143575      44.026601  4.799472e+04  3.010634e+04   \n",
              "Years                 0.013469       1.636751  1.226598e+03  7.525206e+02   \n",
              "CreditLimit         540.935043  288865.039356  3.194907e+08  2.153142e+08   \n",
              "Payment             287.118577  350979.323717  4.692506e+08  3.268504e+08   \n",
              "Min_payment         696.079361   72134.898114  4.908907e+07  8.983711e+06   \n",
              "Ndefault              0.003887       0.588419  4.594193e+02  2.756979e+02   \n",
              "Balance            1592.035604   92825.406448  8.793201e+07  5.568608e+07   \n",
              "Balance_Freq          0.045075       1.118394  6.752762e+02  4.180602e+02   \n",
              "N_purchases           1.118394     807.320053  4.815884e+05  2.905133e+05   \n",
              "LastPurchase        675.276210  481588.441054  5.863725e+08  4.068671e+08   \n",
              "MaxPurchase         418.060249  290513.273809  4.068671e+08  3.337889e+08   \n",
              "Inst_purchase       257.210199  191076.040081  1.795022e+08  7.307509e+07   \n",
              "Advance             228.537124  -32517.293361 -2.596388e+07 -1.663675e+07   \n",
              "Count_Advance_Tx      0.020759       6.569240  4.147793e+03  2.329680e+03   \n",
              "Purchase_Freq         0.016205       6.221509  3.458371e+03  1.321100e+03   \n",
              "Installment_Freq      0.007645      -0.742037 -6.580927e+02 -3.903794e+02   \n",
              "Advance_Freq          0.187937     -11.531631 -1.306474e+04 -8.301898e+03   \n",
              "Pct_full_payment     -0.007721       1.536590  1.547549e+03  9.699579e+02   \n",
              "\n",
              "                  Inst_purchase       Advance  Count_Advance_Tx  \\\n",
              "CustID            -3.448527e+06 -5.935426e+06        -97.798358   \n",
              "Age                1.788950e+04  2.850317e+04          0.238635   \n",
              "Years              4.741280e+02 -4.220083e+02          0.015209   \n",
              "CreditLimit        1.041713e+08  1.488508e+08       2479.848542   \n",
              "Payment            1.424066e+08  1.828197e+08       1717.968329   \n",
              "Min_payment        4.010405e+07  4.204432e+07         37.918581   \n",
              "Ndefault           1.837531e+02  3.952575e+02         -0.000349   \n",
              "Balance            3.224137e+07  1.516788e+08       -661.720928   \n",
              "Balance_Freq       2.572102e+02  2.285371e+02          0.020759   \n",
              "N_purchases        1.910760e+05 -3.251729e+04          6.569240   \n",
              "LastPurchase       1.795022e+08 -2.596388e+07       4147.793332   \n",
              "MaxPurchase        7.307509e+07 -1.663675e+07       2329.680473   \n",
              "Inst_purchase      1.064274e+08 -9.329978e+06       1818.218486   \n",
              "Advance           -9.329978e+06  1.866282e+08      -1169.111975   \n",
              "Count_Advance_Tx   1.818218e+03 -1.169112e+03          0.162088   \n",
              "Purchase_Freq      2.137423e+03 -8.499493e+02          0.133490   \n",
              "Installment_Freq  -2.677692e+02  1.805856e+03         -0.023662   \n",
              "Advance_Freq      -4.764223e+03  6.501352e+04         -0.508102   \n",
              "Pct_full_payment   5.776704e+02 -6.225710e+02          0.035936   \n",
              "\n",
              "                  Purchase_Freq  Installment_Freq  Advance_Freq  \\\n",
              "CustID               -60.196876        -44.563660  -1748.326410   \n",
              "Age                    0.197345          0.261117      9.259450   \n",
              "Years                  0.015932         -0.010466     -0.146738   \n",
              "CreditLimit         1623.114416       1007.685207  40316.188491   \n",
              "Payment             1692.686743       1136.359258  56529.627252   \n",
              "Min_payment          410.980164        565.857725  20490.696341   \n",
              "Ndefault              -0.000320          0.006379      0.201443   \n",
              "Balance             -287.902762       2197.983397  64791.148902   \n",
              "Balance_Freq           0.016205          0.007645      0.187937   \n",
              "N_purchases            6.221509         -0.742037    -11.531631   \n",
              "LastPurchase        3458.370678       -658.092697 -13064.736380   \n",
              "MaxPurchase         1321.100320       -390.379367  -8301.897553   \n",
              "Inst_purchase       2137.423182       -267.769195  -4764.223448   \n",
              "Advance             -849.949307       1805.855571  65013.522809   \n",
              "Count_Advance_Tx       0.133490         -0.023662     -0.508102   \n",
              "Purchase_Freq          0.156358         -0.017891     -0.357532   \n",
              "Installment_Freq      -0.017891          0.040178      1.109054   \n",
              "Advance_Freq          -0.357532          1.109054     46.339045   \n",
              "Pct_full_payment       0.026365         -0.014685     -0.344167   \n",
              "\n",
              "                  Pct_full_payment  \n",
              "CustID                  -44.041340  \n",
              "Age                       0.056423  \n",
              "Years                     0.001553  \n",
              "CreditLimit            1221.006807  \n",
              "Payment                1354.875376  \n",
              "Min_payment            -996.456506  \n",
              "Ndefault                 -0.011511  \n",
              "Balance               -2270.153852  \n",
              "Balance_Freq             -0.007721  \n",
              "N_purchases               1.536590  \n",
              "LastPurchase           1547.548506  \n",
              "MaxPurchase             969.957901  \n",
              "Inst_purchase           577.670373  \n",
              "Advance                -622.570985  \n",
              "Count_Advance_Tx          0.035936  \n",
              "Purchase_Freq             0.026365  \n",
              "Installment_Freq         -0.014685  \n",
              "Advance_Freq             -0.344167  \n",
              "Pct_full_payment          0.083350  "
            ],
            "text/html": [
              "\n",
              "  <div id=\"df-55e712b9-e983-483a-8e0a-f5d48e7a8e9d\">\n",
              "    <div class=\"colab-df-container\">\n",
              "      <div>\n",
              "<style scoped>\n",
              "    .dataframe tbody tr th:only-of-type {\n",
              "        vertical-align: middle;\n",
              "    }\n",
              "\n",
              "    .dataframe tbody tr th {\n",
              "        vertical-align: top;\n",
              "    }\n",
              "\n",
              "    .dataframe thead th {\n",
              "        text-align: right;\n",
              "    }\n",
              "</style>\n",
              "<table border=\"1\" class=\"dataframe\">\n",
              "  <thead>\n",
              "    <tr style=\"text-align: right;\">\n",
              "      <th></th>\n",
              "      <th>CustID</th>\n",
              "      <th>Age</th>\n",
              "      <th>Years</th>\n",
              "      <th>CreditLimit</th>\n",
              "      <th>Payment</th>\n",
              "      <th>Min_payment</th>\n",
              "      <th>Ndefault</th>\n",
              "      <th>Balance</th>\n",
              "      <th>Balance_Freq</th>\n",
              "      <th>N_purchases</th>\n",
              "      <th>LastPurchase</th>\n",
              "      <th>MaxPurchase</th>\n",
              "      <th>Inst_purchase</th>\n",
              "      <th>Advance</th>\n",
              "      <th>Count_Advance_Tx</th>\n",
              "      <th>Purchase_Freq</th>\n",
              "      <th>Installment_Freq</th>\n",
              "      <th>Advance_Freq</th>\n",
              "      <th>Pct_full_payment</th>\n",
              "    </tr>\n",
              "  </thead>\n",
              "  <tbody>\n",
              "    <tr>\n",
              "      <th>CustID</th>\n",
              "      <td>2.363698e+06</td>\n",
              "      <td>-5655.551523</td>\n",
              "      <td>-122.965518</td>\n",
              "      <td>-5.662191e+07</td>\n",
              "      <td>-1.706067e+07</td>\n",
              "      <td>-3.542097e+06</td>\n",
              "      <td>-69.292742</td>\n",
              "      <td>-1.628333e+07</td>\n",
              "      <td>-24.657065</td>\n",
              "      <td>-10701.726870</td>\n",
              "      <td>-1.062673e+07</td>\n",
              "      <td>-7.177987e+06</td>\n",
              "      <td>-3.448527e+06</td>\n",
              "      <td>-5.935426e+06</td>\n",
              "      <td>-97.798358</td>\n",
              "      <td>-60.196876</td>\n",
              "      <td>-44.563660</td>\n",
              "      <td>-1748.326410</td>\n",
              "      <td>-44.041340</td>\n",
              "    </tr>\n",
              "    <tr>\n",
              "      <th>Age</th>\n",
              "      <td>-5.655552e+03</td>\n",
              "      <td>49.199516</td>\n",
              "      <td>0.465807</td>\n",
              "      <td>1.555733e+05</td>\n",
              "      <td>1.014607e+05</td>\n",
              "      <td>2.066941e+04</td>\n",
              "      <td>0.188287</td>\n",
              "      <td>7.019230e+04</td>\n",
              "      <td>0.143575</td>\n",
              "      <td>44.026601</td>\n",
              "      <td>4.799472e+04</td>\n",
              "      <td>3.010634e+04</td>\n",
              "      <td>1.788950e+04</td>\n",
              "      <td>2.850317e+04</td>\n",
              "      <td>0.238635</td>\n",
              "      <td>0.197345</td>\n",
              "      <td>0.261117</td>\n",
              "      <td>9.259450</td>\n",
              "      <td>0.056423</td>\n",
              "    </tr>\n",
              "    <tr>\n",
              "      <th>Years</th>\n",
              "      <td>-1.229655e+02</td>\n",
              "      <td>0.465807</td>\n",
              "      <td>0.264246</td>\n",
              "      <td>3.361039e+03</td>\n",
              "      <td>1.874214e+03</td>\n",
              "      <td>6.240831e+02</td>\n",
              "      <td>0.000865</td>\n",
              "      <td>8.735325e+02</td>\n",
              "      <td>0.013469</td>\n",
              "      <td>1.636751</td>\n",
              "      <td>1.226598e+03</td>\n",
              "      <td>7.525206e+02</td>\n",
              "      <td>4.741280e+02</td>\n",
              "      <td>-4.220083e+02</td>\n",
              "      <td>0.015209</td>\n",
              "      <td>0.015932</td>\n",
              "      <td>-0.010466</td>\n",
              "      <td>-0.146738</td>\n",
              "      <td>0.001553</td>\n",
              "    </tr>\n",
              "    <tr>\n",
              "      <th>CreditLimit</th>\n",
              "      <td>-5.662191e+07</td>\n",
              "      <td>155573.344871</td>\n",
              "      <td>3361.039471</td>\n",
              "      <td>1.560777e+09</td>\n",
              "      <td>4.978405e+08</td>\n",
              "      <td>9.522985e+07</td>\n",
              "      <td>1801.607338</td>\n",
              "      <td>4.402075e+08</td>\n",
              "      <td>540.935043</td>\n",
              "      <td>288865.039356</td>\n",
              "      <td>3.194907e+08</td>\n",
              "      <td>2.153142e+08</td>\n",
              "      <td>1.041713e+08</td>\n",
              "      <td>1.488508e+08</td>\n",
              "      <td>2479.848542</td>\n",
              "      <td>1623.114416</td>\n",
              "      <td>1007.685207</td>\n",
              "      <td>40316.188491</td>\n",
              "      <td>1221.006807</td>\n",
              "    </tr>\n",
              "    <tr>\n",
              "      <th>Payment</th>\n",
              "      <td>-1.706067e+07</td>\n",
              "      <td>101460.671946</td>\n",
              "      <td>1874.214241</td>\n",
              "      <td>4.978405e+08</td>\n",
              "      <td>1.001825e+09</td>\n",
              "      <td>8.236736e+07</td>\n",
              "      <td>892.039997</td>\n",
              "      <td>2.121907e+08</td>\n",
              "      <td>287.118577</td>\n",
              "      <td>350979.323717</td>\n",
              "      <td>4.692506e+08</td>\n",
              "      <td>3.268504e+08</td>\n",
              "      <td>1.424066e+08</td>\n",
              "      <td>1.828197e+08</td>\n",
              "      <td>1717.968329</td>\n",
              "      <td>1692.686743</td>\n",
              "      <td>1136.359258</td>\n",
              "      <td>56529.627252</td>\n",
              "      <td>1354.875376</td>\n",
              "    </tr>\n",
              "    <tr>\n",
              "      <th>Min_payment</th>\n",
              "      <td>-3.542097e+06</td>\n",
              "      <td>20669.409187</td>\n",
              "      <td>624.083088</td>\n",
              "      <td>9.522985e+07</td>\n",
              "      <td>8.236736e+07</td>\n",
              "      <td>5.321604e+08</td>\n",
              "      <td>644.373727</td>\n",
              "      <td>2.258630e+08</td>\n",
              "      <td>696.079361</td>\n",
              "      <td>72134.898114</td>\n",
              "      <td>4.908907e+07</td>\n",
              "      <td>8.983711e+06</td>\n",
              "      <td>4.010405e+07</td>\n",
              "      <td>4.204432e+07</td>\n",
              "      <td>37.918581</td>\n",
              "      <td>410.980164</td>\n",
              "      <td>565.857725</td>\n",
              "      <td>20490.696341</td>\n",
              "      <td>-996.456506</td>\n",
              "    </tr>\n",
              "    <tr>\n",
              "      <th>Ndefault</th>\n",
              "      <td>-6.929274e+01</td>\n",
              "      <td>0.188287</td>\n",
              "      <td>0.000865</td>\n",
              "      <td>1.801607e+03</td>\n",
              "      <td>8.920400e+02</td>\n",
              "      <td>6.443737e+02</td>\n",
              "      <td>0.076658</td>\n",
              "      <td>1.470381e+03</td>\n",
              "      <td>0.003887</td>\n",
              "      <td>0.588419</td>\n",
              "      <td>4.594193e+02</td>\n",
              "      <td>2.756979e+02</td>\n",
              "      <td>1.837531e+02</td>\n",
              "      <td>3.952575e+02</td>\n",
              "      <td>-0.000349</td>\n",
              "      <td>-0.000320</td>\n",
              "      <td>0.006379</td>\n",
              "      <td>0.201443</td>\n",
              "      <td>-0.011511</td>\n",
              "    </tr>\n",
              "    <tr>\n",
              "      <th>Balance</th>\n",
              "      <td>-1.628333e+07</td>\n",
              "      <td>70192.300099</td>\n",
              "      <td>873.532456</td>\n",
              "      <td>4.402075e+08</td>\n",
              "      <td>2.121907e+08</td>\n",
              "      <td>2.258630e+08</td>\n",
              "      <td>1470.380735</td>\n",
              "      <td>5.435492e+08</td>\n",
              "      <td>1592.035604</td>\n",
              "      <td>92825.406448</td>\n",
              "      <td>8.793201e+07</td>\n",
              "      <td>5.568608e+07</td>\n",
              "      <td>3.224137e+07</td>\n",
              "      <td>1.516788e+08</td>\n",
              "      <td>-661.720928</td>\n",
              "      <td>-287.902762</td>\n",
              "      <td>2197.983397</td>\n",
              "      <td>64791.148902</td>\n",
              "      <td>-2270.153852</td>\n",
              "    </tr>\n",
              "    <tr>\n",
              "      <th>Balance_Freq</th>\n",
              "      <td>-2.465706e+01</td>\n",
              "      <td>0.143575</td>\n",
              "      <td>0.013469</td>\n",
              "      <td>5.409350e+02</td>\n",
              "      <td>2.871186e+02</td>\n",
              "      <td>6.960794e+02</td>\n",
              "      <td>0.003887</td>\n",
              "      <td>1.592036e+03</td>\n",
              "      <td>0.045075</td>\n",
              "      <td>1.118394</td>\n",
              "      <td>6.752762e+02</td>\n",
              "      <td>4.180602e+02</td>\n",
              "      <td>2.572102e+02</td>\n",
              "      <td>2.285371e+02</td>\n",
              "      <td>0.020759</td>\n",
              "      <td>0.016205</td>\n",
              "      <td>0.007645</td>\n",
              "      <td>0.187937</td>\n",
              "      <td>-0.007721</td>\n",
              "    </tr>\n",
              "    <tr>\n",
              "      <th>N_purchases</th>\n",
              "      <td>-1.070173e+04</td>\n",
              "      <td>44.026601</td>\n",
              "      <td>1.636751</td>\n",
              "      <td>2.888650e+05</td>\n",
              "      <td>3.509793e+05</td>\n",
              "      <td>7.213490e+04</td>\n",
              "      <td>0.588419</td>\n",
              "      <td>9.282541e+04</td>\n",
              "      <td>1.118394</td>\n",
              "      <td>807.320053</td>\n",
              "      <td>4.815884e+05</td>\n",
              "      <td>2.905133e+05</td>\n",
              "      <td>1.910760e+05</td>\n",
              "      <td>-3.251729e+04</td>\n",
              "      <td>6.569240</td>\n",
              "      <td>6.221509</td>\n",
              "      <td>-0.742037</td>\n",
              "      <td>-11.531631</td>\n",
              "      <td>1.536590</td>\n",
              "    </tr>\n",
              "    <tr>\n",
              "      <th>LastPurchase</th>\n",
              "      <td>-1.062673e+07</td>\n",
              "      <td>47994.720094</td>\n",
              "      <td>1226.598313</td>\n",
              "      <td>3.194907e+08</td>\n",
              "      <td>4.692506e+08</td>\n",
              "      <td>4.908907e+07</td>\n",
              "      <td>459.419255</td>\n",
              "      <td>8.793201e+07</td>\n",
              "      <td>675.276210</td>\n",
              "      <td>481588.441054</td>\n",
              "      <td>5.863725e+08</td>\n",
              "      <td>4.068671e+08</td>\n",
              "      <td>1.795022e+08</td>\n",
              "      <td>-2.596388e+07</td>\n",
              "      <td>4147.793332</td>\n",
              "      <td>3458.370678</td>\n",
              "      <td>-658.092697</td>\n",
              "      <td>-13064.736380</td>\n",
              "      <td>1547.548506</td>\n",
              "    </tr>\n",
              "    <tr>\n",
              "      <th>MaxPurchase</th>\n",
              "      <td>-7.177987e+06</td>\n",
              "      <td>30106.336630</td>\n",
              "      <td>752.520611</td>\n",
              "      <td>2.153142e+08</td>\n",
              "      <td>3.268504e+08</td>\n",
              "      <td>8.983711e+06</td>\n",
              "      <td>275.697892</td>\n",
              "      <td>5.568608e+07</td>\n",
              "      <td>418.060249</td>\n",
              "      <td>290513.273809</td>\n",
              "      <td>4.068671e+08</td>\n",
              "      <td>3.337889e+08</td>\n",
              "      <td>7.307509e+07</td>\n",
              "      <td>-1.663675e+07</td>\n",
              "      <td>2329.680473</td>\n",
              "      <td>1321.100320</td>\n",
              "      <td>-390.379367</td>\n",
              "      <td>-8301.897553</td>\n",
              "      <td>969.957901</td>\n",
              "    </tr>\n",
              "    <tr>\n",
              "      <th>Inst_purchase</th>\n",
              "      <td>-3.448527e+06</td>\n",
              "      <td>17889.499689</td>\n",
              "      <td>474.128021</td>\n",
              "      <td>1.041713e+08</td>\n",
              "      <td>1.424066e+08</td>\n",
              "      <td>4.010405e+07</td>\n",
              "      <td>183.753109</td>\n",
              "      <td>3.224137e+07</td>\n",
              "      <td>257.210199</td>\n",
              "      <td>191076.040081</td>\n",
              "      <td>1.795022e+08</td>\n",
              "      <td>7.307509e+07</td>\n",
              "      <td>1.064274e+08</td>\n",
              "      <td>-9.329978e+06</td>\n",
              "      <td>1818.218486</td>\n",
              "      <td>2137.423182</td>\n",
              "      <td>-267.769195</td>\n",
              "      <td>-4764.223448</td>\n",
              "      <td>577.670373</td>\n",
              "    </tr>\n",
              "    <tr>\n",
              "      <th>Advance</th>\n",
              "      <td>-5.935426e+06</td>\n",
              "      <td>28503.172305</td>\n",
              "      <td>-422.008324</td>\n",
              "      <td>1.488508e+08</td>\n",
              "      <td>1.828197e+08</td>\n",
              "      <td>4.204432e+07</td>\n",
              "      <td>395.257534</td>\n",
              "      <td>1.516788e+08</td>\n",
              "      <td>228.537124</td>\n",
              "      <td>-32517.293361</td>\n",
              "      <td>-2.596388e+07</td>\n",
              "      <td>-1.663675e+07</td>\n",
              "      <td>-9.329978e+06</td>\n",
              "      <td>1.866282e+08</td>\n",
              "      <td>-1169.111975</td>\n",
              "      <td>-849.949307</td>\n",
              "      <td>1805.855571</td>\n",
              "      <td>65013.522809</td>\n",
              "      <td>-622.570985</td>\n",
              "    </tr>\n",
              "    <tr>\n",
              "      <th>Count_Advance_Tx</th>\n",
              "      <td>-9.779836e+01</td>\n",
              "      <td>0.238635</td>\n",
              "      <td>0.015209</td>\n",
              "      <td>2.479849e+03</td>\n",
              "      <td>1.717968e+03</td>\n",
              "      <td>3.791858e+01</td>\n",
              "      <td>-0.000349</td>\n",
              "      <td>-6.617209e+02</td>\n",
              "      <td>0.020759</td>\n",
              "      <td>6.569240</td>\n",
              "      <td>4.147793e+03</td>\n",
              "      <td>2.329680e+03</td>\n",
              "      <td>1.818218e+03</td>\n",
              "      <td>-1.169112e+03</td>\n",
              "      <td>0.162088</td>\n",
              "      <td>0.133490</td>\n",
              "      <td>-0.023662</td>\n",
              "      <td>-0.508102</td>\n",
              "      <td>0.035936</td>\n",
              "    </tr>\n",
              "    <tr>\n",
              "      <th>Purchase_Freq</th>\n",
              "      <td>-6.019688e+01</td>\n",
              "      <td>0.197345</td>\n",
              "      <td>0.015932</td>\n",
              "      <td>1.623114e+03</td>\n",
              "      <td>1.692687e+03</td>\n",
              "      <td>4.109802e+02</td>\n",
              "      <td>-0.000320</td>\n",
              "      <td>-2.879028e+02</td>\n",
              "      <td>0.016205</td>\n",
              "      <td>6.221509</td>\n",
              "      <td>3.458371e+03</td>\n",
              "      <td>1.321100e+03</td>\n",
              "      <td>2.137423e+03</td>\n",
              "      <td>-8.499493e+02</td>\n",
              "      <td>0.133490</td>\n",
              "      <td>0.156358</td>\n",
              "      <td>-0.017891</td>\n",
              "      <td>-0.357532</td>\n",
              "      <td>0.026365</td>\n",
              "    </tr>\n",
              "    <tr>\n",
              "      <th>Installment_Freq</th>\n",
              "      <td>-4.456366e+01</td>\n",
              "      <td>0.261117</td>\n",
              "      <td>-0.010466</td>\n",
              "      <td>1.007685e+03</td>\n",
              "      <td>1.136359e+03</td>\n",
              "      <td>5.658577e+02</td>\n",
              "      <td>0.006379</td>\n",
              "      <td>2.197983e+03</td>\n",
              "      <td>0.007645</td>\n",
              "      <td>-0.742037</td>\n",
              "      <td>-6.580927e+02</td>\n",
              "      <td>-3.903794e+02</td>\n",
              "      <td>-2.677692e+02</td>\n",
              "      <td>1.805856e+03</td>\n",
              "      <td>-0.023662</td>\n",
              "      <td>-0.017891</td>\n",
              "      <td>0.040178</td>\n",
              "      <td>1.109054</td>\n",
              "      <td>-0.014685</td>\n",
              "    </tr>\n",
              "    <tr>\n",
              "      <th>Advance_Freq</th>\n",
              "      <td>-1.748326e+03</td>\n",
              "      <td>9.259450</td>\n",
              "      <td>-0.146738</td>\n",
              "      <td>4.031619e+04</td>\n",
              "      <td>5.652963e+04</td>\n",
              "      <td>2.049070e+04</td>\n",
              "      <td>0.201443</td>\n",
              "      <td>6.479115e+04</td>\n",
              "      <td>0.187937</td>\n",
              "      <td>-11.531631</td>\n",
              "      <td>-1.306474e+04</td>\n",
              "      <td>-8.301898e+03</td>\n",
              "      <td>-4.764223e+03</td>\n",
              "      <td>6.501352e+04</td>\n",
              "      <td>-0.508102</td>\n",
              "      <td>-0.357532</td>\n",
              "      <td>1.109054</td>\n",
              "      <td>46.339045</td>\n",
              "      <td>-0.344167</td>\n",
              "    </tr>\n",
              "    <tr>\n",
              "      <th>Pct_full_payment</th>\n",
              "      <td>-4.404134e+01</td>\n",
              "      <td>0.056423</td>\n",
              "      <td>0.001553</td>\n",
              "      <td>1.221007e+03</td>\n",
              "      <td>1.354875e+03</td>\n",
              "      <td>-9.964565e+02</td>\n",
              "      <td>-0.011511</td>\n",
              "      <td>-2.270154e+03</td>\n",
              "      <td>-0.007721</td>\n",
              "      <td>1.536590</td>\n",
              "      <td>1.547549e+03</td>\n",
              "      <td>9.699579e+02</td>\n",
              "      <td>5.776704e+02</td>\n",
              "      <td>-6.225710e+02</td>\n",
              "      <td>0.035936</td>\n",
              "      <td>0.026365</td>\n",
              "      <td>-0.014685</td>\n",
              "      <td>-0.344167</td>\n",
              "      <td>0.083350</td>\n",
              "    </tr>\n",
              "  </tbody>\n",
              "</table>\n",
              "</div>\n",
              "      <button class=\"colab-df-convert\" onclick=\"convertToInteractive('df-55e712b9-e983-483a-8e0a-f5d48e7a8e9d')\"\n",
              "              title=\"Convert this dataframe to an interactive table.\"\n",
              "              style=\"display:none;\">\n",
              "        \n",
              "  <svg xmlns=\"http://www.w3.org/2000/svg\" height=\"24px\"viewBox=\"0 0 24 24\"\n",
              "       width=\"24px\">\n",
              "    <path d=\"M0 0h24v24H0V0z\" fill=\"none\"/>\n",
              "    <path d=\"M18.56 5.44l.94 2.06.94-2.06 2.06-.94-2.06-.94-.94-2.06-.94 2.06-2.06.94zm-11 1L8.5 8.5l.94-2.06 2.06-.94-2.06-.94L8.5 2.5l-.94 2.06-2.06.94zm10 10l.94 2.06.94-2.06 2.06-.94-2.06-.94-.94-2.06-.94 2.06-2.06.94z\"/><path d=\"M17.41 7.96l-1.37-1.37c-.4-.4-.92-.59-1.43-.59-.52 0-1.04.2-1.43.59L10.3 9.45l-7.72 7.72c-.78.78-.78 2.05 0 2.83L4 21.41c.39.39.9.59 1.41.59.51 0 1.02-.2 1.41-.59l7.78-7.78 2.81-2.81c.8-.78.8-2.07 0-2.86zM5.41 20L4 18.59l7.72-7.72 1.47 1.35L5.41 20z\"/>\n",
              "  </svg>\n",
              "      </button>\n",
              "      \n",
              "  <style>\n",
              "    .colab-df-container {\n",
              "      display:flex;\n",
              "      flex-wrap:wrap;\n",
              "      gap: 12px;\n",
              "    }\n",
              "\n",
              "    .colab-df-convert {\n",
              "      background-color: #E8F0FE;\n",
              "      border: none;\n",
              "      border-radius: 50%;\n",
              "      cursor: pointer;\n",
              "      display: none;\n",
              "      fill: #1967D2;\n",
              "      height: 32px;\n",
              "      padding: 0 0 0 0;\n",
              "      width: 32px;\n",
              "    }\n",
              "\n",
              "    .colab-df-convert:hover {\n",
              "      background-color: #E2EBFA;\n",
              "      box-shadow: 0px 1px 2px rgba(60, 64, 67, 0.3), 0px 1px 3px 1px rgba(60, 64, 67, 0.15);\n",
              "      fill: #174EA6;\n",
              "    }\n",
              "\n",
              "    [theme=dark] .colab-df-convert {\n",
              "      background-color: #3B4455;\n",
              "      fill: #D2E3FC;\n",
              "    }\n",
              "\n",
              "    [theme=dark] .colab-df-convert:hover {\n",
              "      background-color: #434B5C;\n",
              "      box-shadow: 0px 1px 3px 1px rgba(0, 0, 0, 0.15);\n",
              "      filter: drop-shadow(0px 1px 2px rgba(0, 0, 0, 0.3));\n",
              "      fill: #FFFFFF;\n",
              "    }\n",
              "  </style>\n",
              "\n",
              "      <script>\n",
              "        const buttonEl =\n",
              "          document.querySelector('#df-55e712b9-e983-483a-8e0a-f5d48e7a8e9d button.colab-df-convert');\n",
              "        buttonEl.style.display =\n",
              "          google.colab.kernel.accessAllowed ? 'block' : 'none';\n",
              "\n",
              "        async function convertToInteractive(key) {\n",
              "          const element = document.querySelector('#df-55e712b9-e983-483a-8e0a-f5d48e7a8e9d');\n",
              "          const dataTable =\n",
              "            await google.colab.kernel.invokeFunction('convertToInteractive',\n",
              "                                                     [key], {});\n",
              "          if (!dataTable) return;\n",
              "\n",
              "          const docLinkHtml = 'Like what you see? Visit the ' +\n",
              "            '<a target=\"_blank\" href=https://colab.research.google.com/notebooks/data_table.ipynb>data table notebook</a>'\n",
              "            + ' to learn more about interactive tables.';\n",
              "          element.innerHTML = '';\n",
              "          dataTable['output_type'] = 'display_data';\n",
              "          await google.colab.output.renderOutput(dataTable, element);\n",
              "          const docLink = document.createElement('div');\n",
              "          docLink.innerHTML = docLinkHtml;\n",
              "          element.appendChild(docLink);\n",
              "        }\n",
              "      </script>\n",
              "    </div>\n",
              "  </div>\n",
              "  "
            ]
          },
          "metadata": {},
          "execution_count": 96
        }
      ]
    },
    {
      "cell_type": "code",
      "metadata": {
        "id": "Zuo2gVAWmWsi",
        "outputId": "a96dd9bc-ec01-4147-c7f0-45b2fb1337cf",
        "colab": {
          "base_uri": "https://localhost:8080/",
          "height": 724
        }
      },
      "source": [
        "corr = df.corr()\n",
        "f, ax=plt.subplots(figsize=(15,10))\n",
        "mask = np.triu(np.ones_like(corr, dtype=bool))\n",
        "cmap = sns.diverging_palette(18,13, as_cmap=\"coolwarm\")\n",
        "sns.heatmap(corr, mask=mask, vmin=-1, vmax=1, annot=True)\n",
        "plt.title('Triangle Correlation Heatmap', size=18, pad=16)\n"
      ],
      "execution_count": 97,
      "outputs": [
        {
          "output_type": "execute_result",
          "data": {
            "text/plain": [
              "Text(0.5, 1.0, 'Triangle Correlation Heatmap')"
            ]
          },
          "metadata": {},
          "execution_count": 97
        },
        {
          "output_type": "display_data",
          "data": {
            "text/plain": [
              "<Figure size 1080x720 with 2 Axes>"
            ],
            "image/png": "[encoded data removed]"
          },
          "metadata": {
            "needs_background": "light"
          }
        }
      ]
    },
    {
      "cell_type": "markdown",
      "source": [
        "Exploratory Data Analysis (EDA)\n",
        "การตั้งสมมุติฐาน (Hypothesis)\n",
        "\n",
        "1.พื้นที่จังหวัดมีผลกับการถือบัตรเครดิตหรือเปล่า (Province area effect to credit crad customer)\n",
        "\n",
        "2.อายุมีผลกับการถือบัตรเครดิตมั้ย (Age effect to credit card customer)\n",
        "\n",
        "3.ลูกค้าแบบไหนที่มีแนวโน้มผิดนัดชำระหนี้ (which one the customer type high risk do not pay the debt) \n",
        "\n",
        "4.อายุยิ่งน้อยมีแนวโน้มผิดนัดชำระหนี้ (Early working age high risk do not pay the debt) \n",
        "\n",
        "5.กลุ่มอายุที่มีโอกาสเบิกเงินล่วงหน้าสูง (Which age grop occasion to used cash advance)\n",
        "\n",
        "6.อายุยิ่งมากจะมีการใช้จ่ายเยอะขึ้น (The elder trend to high spending money)\n",
        "\n",
        "7.ระยะเวลาการเป็นลูกค้านานเท่าไหร่ยิ่งมีการใช้จ่ายเยอะขึ้น (Long period time customer trend to high spending money)\n"
      ],
      "metadata": {
        "id": "2SBWGytZWNle"
      }
    },
    {
      "cell_type": "code",
      "metadata": {
        "id": "BlZNvKT0mWsn",
        "outputId": "7d731d77-3236-43a2-ebe3-74250cc43273",
        "colab": {
          "base_uri": "https://localhost:8080/",
          "height": 641
        }
      },
      "source": [
        "#1.Histrogram show Total Credit Card Customer classify by Province area\n",
        "dims= (10, 10)\n",
        "fig, ax = plt.subplots(figsize=dims)\n",
        "axc = sns.countplot(x=\"Province\", data=df, ax=ax)\n",
        "plt.title(\"Total Credit Card Customer classify by Province area\",size=15,color=\"black\")"
      ],
      "execution_count": 98,
      "outputs": [
        {
          "output_type": "execute_result",
          "data": {
            "text/plain": [
              "Text(0.5, 1.0, 'Total Credit Card Customer classify by Province area')"
            ]
          },
          "metadata": {},
          "execution_count": 98
        },
        {
          "output_type": "display_data",
          "data": {
            "text/plain": [
              "<Figure size 720x720 with 1 Axes>"
            ],
            "image/png": "[encoded data removed]"
          },
          "metadata": {
            "needs_background": "light"
          }
        }
      ]
    },
    {
      "cell_type": "code",
      "metadata": {
        "id": "oBCbE-McmWso",
        "outputId": "a078bd83-7a4d-4eb4-9407-c984fc63d263",
        "colab": {
          "base_uri": "https://localhost:8080/",
          "height": 641
        }
      },
      "source": [
        "#2.Histrogram show Total Credit Card Customer classify by Age \n",
        "fig, ax = plt.subplots(figsize=(10,10))\n",
        "axs = sns.countplot(x=\"Age\", data=df, ax=ax)\n",
        "plt.title(\"Total Credit Card Customer classify by Age\",size=15,color=\"black\")"
      ],
      "execution_count": 99,
      "outputs": [
        {
          "output_type": "execute_result",
          "data": {
            "text/plain": [
              "Text(0.5, 1.0, 'Total Credit Card Customer classify by Age')"
            ]
          },
          "metadata": {},
          "execution_count": 99
        },
        {
          "output_type": "display_data",
          "data": {
            "text/plain": [
              "<Figure size 720x720 with 1 Axes>"
            ],
            "image/png": "[encoded data removed]"
          },
          "metadata": {
            "needs_background": "light"
          }
        }
      ]
    },
    {
      "cell_type": "code",
      "metadata": {
        "id": "xWMrwK-AmWsp",
        "outputId": "c58e04fd-0986-4d50-88cb-918e586014fe",
        "colab": {
          "base_uri": "https://localhost:8080/",
          "height": 641
        }
      },
      "source": [
        "#2.Histrogram show Total Credit Card Customer classify by Age Range\n",
        "fig, ax = plt.subplots(figsize=(10,10))\n",
        "axs = sns.countplot(x=\"AgeRange\", data=df, ax=ax)\n",
        "plt.title(\"Total Credit Card Customer classify by Age Range\",size=15,color=\"black\")"
      ],
      "execution_count": 100,
      "outputs": [
        {
          "output_type": "execute_result",
          "data": {
            "text/plain": [
              "Text(0.5, 1.0, 'Total Credit Card Customer classify by Age Range')"
            ]
          },
          "metadata": {},
          "execution_count": 100
        },
        {
          "output_type": "display_data",
          "data": {
            "text/plain": [
              "<Figure size 720x720 with 1 Axes>"
            ],
            "image/png": "[encoded data removed]"
          },
          "metadata": {
            "needs_background": "light"
          }
        }
      ]
    },
    {
      "cell_type": "code",
      "metadata": {
        "id": "kZot9ykLmWsq",
        "colab": {
          "base_uri": "https://localhost:8080/",
          "height": 641
        },
        "outputId": "26d2a725-bcda-461f-cf67-9e58b23d3ab1"
      },
      "source": [
        "#3.Boxplot show Province and Pct_full_payment relation \n",
        "f, ax = plt.subplots(figsize=(10,10))\n",
        "sns.boxplot(x=\"Province\", y=\"Pct_full_payment\",data=df,ax=ax)\n",
        "plt.title(\"Show Province and Pct_full_payment relation\",size=15,color=\"black\")"
      ],
      "execution_count": 101,
      "outputs": [
        {
          "output_type": "execute_result",
          "data": {
            "text/plain": [
              "Text(0.5, 1.0, 'Show Province and Pct_full_payment relation')"
            ]
          },
          "metadata": {},
          "execution_count": 101
        },
        {
          "output_type": "display_data",
          "data": {
            "text/plain": [
              "<Figure size 720x720 with 1 Axes>"
            ],
            "image/png": "[encoded data removed]"
          },
          "metadata": {
            "needs_background": "light"
          }
        }
      ]
    },
    {
      "cell_type": "code",
      "metadata": {
        "id": "i_LvX79WmWsr",
        "colab": {
          "base_uri": "https://localhost:8080/",
          "height": 641
        },
        "outputId": "b9f05422-cabd-4342-9dc2-38fbfc9be253"
      },
      "source": [
        "#3.Boxplot show Age and Pct_full_payment relation\n",
        "f, ax = plt.subplots(figsize=(10,10))\n",
        "sns.boxplot(x=\"Age\", y=\"Pct_full_payment\",data=df,ax=ax)\n",
        "plt.title(\"Show Age and Pct_full_payment relation\",size=15,color=\"black\")"
      ],
      "execution_count": 102,
      "outputs": [
        {
          "output_type": "execute_result",
          "data": {
            "text/plain": [
              "Text(0.5, 1.0, 'Show Age and Pct_full_payment relation')"
            ]
          },
          "metadata": {},
          "execution_count": 102
        },
        {
          "output_type": "display_data",
          "data": {
            "text/plain": [
              "<Figure size 720x720 with 1 Axes>"
            ],
            "image/png": "[encoded data removed]"
          },
          "metadata": {
            "needs_background": "light"
          }
        }
      ]
    },
    {
      "cell_type": "code",
      "metadata": {
        "id": "8cuzgR63mWss",
        "colab": {
          "base_uri": "https://localhost:8080/",
          "height": 641
        },
        "outputId": "123b913a-cf68-4c36-bb53-f557868dd333"
      },
      "source": [
        "#4.Boxplot show Years and Pct_full_payment relation\n",
        "f, ax = plt.subplots(figsize=(10,10))\n",
        "sns.boxplot(x=\"Years\", y=\"Pct_full_payment\",data=df,ax=ax)\n",
        "plt.title(\"Show Years and Pct_full_payment relation\",size=15,color=\"black\")"
      ],
      "execution_count": 103,
      "outputs": [
        {
          "output_type": "execute_result",
          "data": {
            "text/plain": [
              "Text(0.5, 1.0, 'Show Years and Pct_full_payment relation')"
            ]
          },
          "metadata": {},
          "execution_count": 103
        },
        {
          "output_type": "display_data",
          "data": {
            "text/plain": [
              "<Figure size 720x720 with 1 Axes>"
            ],
            "image/png": "[encoded data removed]"
          },
          "metadata": {
            "needs_background": "light"
          }
        }
      ]
    },
    {
      "cell_type": "code",
      "metadata": {
        "id": "snOQYca2mWst",
        "colab": {
          "base_uri": "https://localhost:8080/",
          "height": 641
        },
        "outputId": "540f9713-c39a-4807-8fae-924cbcd07dee"
      },
      "source": [
        "#4.Boxplot show Age Range and Credit Limit relation \n",
        "f, ax = plt.subplots(figsize=(10,10))\n",
        "sns.boxplot(x=\"AgeRange\", y=\"CreditLimit\",data=df,ax=ax)\n",
        "plt.title(\"Show Age Range and Credit Limit relation\",size=15,color=\"black\")"
      ],
      "execution_count": 104,
      "outputs": [
        {
          "output_type": "execute_result",
          "data": {
            "text/plain": [
              "Text(0.5, 1.0, 'Show Age Range and Credit Limit relation')"
            ]
          },
          "metadata": {},
          "execution_count": 104
        },
        {
          "output_type": "display_data",
          "data": {
            "text/plain": [
              "<Figure size 720x720 with 1 Axes>"
            ],
            "image/png": "[encoded data removed]"
          },
          "metadata": {
            "needs_background": "light"
          }
        }
      ]
    },
    {
      "cell_type": "code",
      "metadata": {
        "id": "FYUr4VUamWsu",
        "colab": {
          "base_uri": "https://localhost:8080/",
          "height": 641
        },
        "outputId": "802ddb8e-0794-49d0-c416-5d0797b8bcc1"
      },
      "source": [
        "#5.Boxplot show Age and Advance relation \n",
        "f, ax = plt.subplots(figsize=(10,10))\n",
        "sns.boxplot(x= \"Age\",y = \"Advance\", data=df, ax=ax)\n",
        "plt.title(\"Show Age and Advance relation\",size=15,color=\"black\")"
      ],
      "execution_count": 105,
      "outputs": [
        {
          "output_type": "execute_result",
          "data": {
            "text/plain": [
              "Text(0.5, 1.0, 'Show Age and Advance relation')"
            ]
          },
          "metadata": {},
          "execution_count": 105
        },
        {
          "output_type": "display_data",
          "data": {
            "text/plain": [
              "<Figure size 720x720 with 1 Axes>"
            ],
            "image/png": "[encoded data removed]"
          },
          "metadata": {
            "needs_background": "light"
          }
        }
      ]
    },
    {
      "cell_type": "code",
      "metadata": {
        "id": "IJaJirflmWsv",
        "colab": {
          "base_uri": "https://localhost:8080/",
          "height": 641
        },
        "outputId": "22c731d2-a777-4489-cd00-59dad19e370a"
      },
      "source": [
        "#5.Boxplot show Age range and Advance relation \n",
        "f, ax = plt.subplots(figsize=(10,10))\n",
        "sns.boxplot(x=\"AgeRange\", y=\"Advance\",data=df,ax=ax)\n",
        "plt.title(\"Show Age Range and Advance relation\",size=15,color=\"black\")"
      ],
      "execution_count": 106,
      "outputs": [
        {
          "output_type": "execute_result",
          "data": {
            "text/plain": [
              "Text(0.5, 1.0, 'Show Age Range and Advance relation')"
            ]
          },
          "metadata": {},
          "execution_count": 106
        },
        {
          "output_type": "display_data",
          "data": {
            "text/plain": [
              "<Figure size 720x720 with 1 Axes>"
            ],
            "image/png": "[encoded data removed]"
          },
          "metadata": {
            "needs_background": "light"
          }
        }
      ]
    },
    {
      "cell_type": "code",
      "metadata": {
        "id": "t52Y5BWimWsx",
        "colab": {
          "base_uri": "https://localhost:8080/",
          "height": 641
        },
        "outputId": "47600506-6f2f-4e67-bbd3-8975b56d1fe5"
      },
      "source": [
        "#5.Boxplot show Age and Payment relation \n",
        "f, ax = plt.subplots(figsize=(10,10))\n",
        "sns.boxplot(x=\"Age\", y=\"Payment\",data=df,ax=ax)\n",
        "plt.title(\"Show Age and Payment relation\",size=15,color=\"black\")"
      ],
      "execution_count": 107,
      "outputs": [
        {
          "output_type": "execute_result",
          "data": {
            "text/plain": [
              "Text(0.5, 1.0, 'Show Age and Payment relation')"
            ]
          },
          "metadata": {},
          "execution_count": 107
        },
        {
          "output_type": "display_data",
          "data": {
            "text/plain": [
              "<Figure size 720x720 with 1 Axes>"
            ],
            "image/png": "[encoded data removed]"
          },
          "metadata": {
            "needs_background": "light"
          }
        }
      ]
    },
    {
      "cell_type": "code",
      "metadata": {
        "id": "0h-07Ax-mWsy",
        "colab": {
          "base_uri": "https://localhost:8080/",
          "height": 641
        },
        "outputId": "fd3912f6-5be3-4a87-a1d9-2e181b588114"
      },
      "source": [
        "#6.Boxplot show Age Range range and MaxPurchase relation \n",
        "f, ax = plt.subplots(figsize=(10,10))\n",
        "sns.boxplot(x=\"AgeRange\", y=\"MaxPurchase\",data=df,ax=ax)\n",
        "plt.title(\"Show Age Range and MaxPurchase relation\",size=15,color=\"black\")"
      ],
      "execution_count": 108,
      "outputs": [
        {
          "output_type": "execute_result",
          "data": {
            "text/plain": [
              "Text(0.5, 1.0, 'Show Age Range and MaxPurchase relation')"
            ]
          },
          "metadata": {},
          "execution_count": 108
        },
        {
          "output_type": "display_data",
          "data": {
            "text/plain": [
              "<Figure size 720x720 with 1 Axes>"
            ],
            "image/png": "[encoded data removed]"
          },
          "metadata": {
            "needs_background": "light"
          }
        }
      ]
    },
    {
      "cell_type": "code",
      "metadata": {
        "id": "_iJeHgAtmWsy",
        "colab": {
          "base_uri": "https://localhost:8080/",
          "height": 641
        },
        "outputId": "18d15fa5-5e85-42f8-be4c-3deb15bd8854"
      },
      "source": [
        "#6.Boxplot show Province and Payment relation\n",
        "f, ax = plt.subplots(figsize=(10,10))\n",
        "sns.boxplot(x=\"Province\", y=\"Payment\",data=df,ax=ax)\n",
        "plt.title(\"Show Province and Payment relation\",size=15,color=\"black\")"
      ],
      "execution_count": 109,
      "outputs": [
        {
          "output_type": "execute_result",
          "data": {
            "text/plain": [
              "Text(0.5, 1.0, 'Show Province and Payment relation')"
            ]
          },
          "metadata": {},
          "execution_count": 109
        },
        {
          "output_type": "display_data",
          "data": {
            "text/plain": [
              "<Figure size 720x720 with 1 Axes>"
            ],
            "image/png": "[encoded data removed]"
          },
          "metadata": {
            "needs_background": "light"
          }
        }
      ]
    },
    {
      "cell_type": "code",
      "metadata": {
        "id": "278fpqE8mWsz",
        "colab": {
          "base_uri": "https://localhost:8080/",
          "height": 641
        },
        "outputId": "053bd69c-59ef-453d-f7de-49755b535f3c"
      },
      "source": [
        "#7.Boxplot show Years and Payment relation\n",
        "f, ax = plt.subplots(figsize=(10,10))\n",
        "sns.boxplot(x=\"Years\", y=\"Payment\",data=df,ax=ax)\n",
        "plt.title(\"Show Years and Payment relation\",size=15,color=\"black\")"
      ],
      "execution_count": 110,
      "outputs": [
        {
          "output_type": "execute_result",
          "data": {
            "text/plain": [
              "Text(0.5, 1.0, 'Show Years and Payment relation')"
            ]
          },
          "metadata": {},
          "execution_count": 110
        },
        {
          "output_type": "display_data",
          "data": {
            "text/plain": [
              "<Figure size 720x720 with 1 Axes>"
            ],
            "image/png": "[encoded data removed]"
          },
          "metadata": {
            "needs_background": "light"
          }
        }
      ]
    },
    {
      "cell_type": "code",
      "metadata": {
        "id": "C5u9ma02mWs1",
        "colab": {
          "base_uri": "https://localhost:8080/",
          "height": 641
        },
        "outputId": "daf49260-e372-4d6c-c6d8-af8b3a811878"
      },
      "source": [
        "#7.Boxplot show Age Range and Pct_full_payment relation\n",
        "f, ax = plt.subplots(figsize=(10,10))\n",
        "sns.boxplot(x=\"AgeRange\", y=\"Pct_full_payment\",data=df,ax=ax)\n",
        "plt.title(\"Show Age Range and Pct_full_payment relation\",size=15,color=\"black\")"
      ],
      "execution_count": 111,
      "outputs": [
        {
          "output_type": "execute_result",
          "data": {
            "text/plain": [
              "Text(0.5, 1.0, 'Show Age Range and Pct_full_payment relation')"
            ]
          },
          "metadata": {},
          "execution_count": 111
        },
        {
          "output_type": "display_data",
          "data": {
            "text/plain": [
              "<Figure size 720x720 with 1 Axes>"
            ],
            "image/png": "[encoded data removed]"
          },
          "metadata": {
            "needs_background": "light"
          }
        }
      ]
    }
  ]
}